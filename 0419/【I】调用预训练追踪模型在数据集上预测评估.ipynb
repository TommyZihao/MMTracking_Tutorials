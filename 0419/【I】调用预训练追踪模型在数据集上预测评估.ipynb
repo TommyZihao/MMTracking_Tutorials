{
 "cells": [
  {
   "cell_type": "markdown",
   "id": "bf347f35-7b0e-413f-9f16-9c5cf5f556af",
   "metadata": {},
   "source": [
    "# 调用预训练追踪模型在数据集上预测评估"
   ]
  },
  {
   "cell_type": "markdown",
   "id": "1b43d2ef-0c72-47d0-9b34-05ef25beb925",
   "metadata": {},
   "source": [
    "调用预训练追踪模型在数据集上预测评估\n",
    "\n",
    "代码测试云GPU环境：[featurize](https://featurize.cn?s=d7ce99f842414bfcaea5662a97581bd1)，在云GPU中直接运行本notebook的所有代码即可\n",
    "\n",
    "OpenMMLab主页：https://openmmlab.com/\n",
    "\n",
    "MMTracking主页：https://github.com/open-mmlab/mmtracking\n",
    "\n",
    "MMDetection主页：https://github.com/open-mmlab/mmdetection\n",
    "\n",
    "2022-03-05"
   ]
  },
  {
   "cell_type": "code",
   "execution_count": 1,
   "id": "01fbcfcc-e626-4926-93fb-10954715e503",
   "metadata": {},
   "outputs": [
    {
     "data": {
      "text/plain": [
       "['.git',\n",
       " '.circleci',\n",
       " '.dev_scripts',\n",
       " '.github',\n",
       " '.gitignore',\n",
       " '.pre-commit-config.yaml',\n",
       " '.readthedocs.yml',\n",
       " 'CITATION.cff',\n",
       " 'LICENSE',\n",
       " 'MANIFEST.in',\n",
       " 'README.md',\n",
       " 'README_zh-CN.md',\n",
       " 'configs',\n",
       " 'demo',\n",
       " 'docker',\n",
       " 'docs',\n",
       " 'mmtrack',\n",
       " 'model-index.yml',\n",
       " 'requirements.txt',\n",
       " 'requirements',\n",
       " 'resources',\n",
       " 'setup.cfg',\n",
       " 'setup.py',\n",
       " 'tests',\n",
       " 'tools',\n",
       " 'mmtrack.egg-info',\n",
       " 'checkpoints',\n",
       " 'dff_faster_rcnn_r101_dc5_1x_imagenetvid_20201218_172720-ad732e17.pth',\n",
       " 'output_mot.mp4',\n",
       " 'output_human.mp4',\n",
       " 'outputs']"
      ]
     },
     "execution_count": 1,
     "metadata": {},
     "output_type": "execute_result"
    }
   ],
   "source": [
    "# 设置上一级目录为主目录，即mmtracking主目录¶\n",
    "import os\n",
    "os.chdir('mmtracking')\n",
    "os.listdir()"
   ]
  },
  {
   "cell_type": "markdown",
   "id": "e504dadb-d493-4bfe-8819-e21421470ade",
   "metadata": {},
   "source": [
    "# 文档链接\n",
    "\n",
    "教程：https://github.com/open-mmlab/mmtracking/blob/master/docs/en/quick_run.md\n",
    "\n",
    "Model Zoo：https://mmtracking.readthedocs.io/en/latest/model_zoo.html"
   ]
  },
  {
   "cell_type": "markdown",
   "id": "b5711b02-c1d7-4e06-bbf4-b4e302535a0d",
   "metadata": {},
   "source": [
    "# 测试VID模型"
   ]
  },
  {
   "cell_type": "markdown",
   "id": "360129c5-8f85-4689-ba89-38ea5ab5f3ae",
   "metadata": {},
   "source": [
    "在ImageNet VID数据集上，评估DFF模型的bbox mAP"
   ]
  },
  {
   "cell_type": "code",
   "execution_count": 3,
   "id": "bee0d93d-7bbd-41ba-90b2-10c01fd8a085",
   "metadata": {},
   "outputs": [
    {
     "name": "stdout",
     "output_type": "stream",
     "text": [
      "/home/featurize/work/mmtracking/mmtrack/core/utils/misc.py:25: UserWarning: Setting OMP_NUM_THREADS environment variable for each process to be 1 in default, to avoid your system being overloaded, please further tune the variable for optimal performance in your application as needed.\n",
      "  f'Setting OMP_NUM_THREADS environment variable for each process '\n",
      "/home/featurize/work/mmtracking/mmtrack/core/utils/misc.py:35: UserWarning: Setting MKL_NUM_THREADS environment variable for each process to be 1 in default, to avoid your system being overloaded, please further tune the variable for optimal performance in your application as needed.\n",
      "  f'Setting MKL_NUM_THREADS environment variable for each process '\n",
      "loading annotations into memory...\n",
      "Traceback (most recent call last):\n",
      "  File \"/environment/miniconda3/lib/python3.7/site-packages/mmcv/utils/registry.py\", line 52, in build_from_cfg\n",
      "    return obj_cls(**args)\n",
      "  File \"/home/featurize/work/mmtracking/mmtrack/datasets/imagenet_vid_dataset.py\", line 21, in __init__\n",
      "    super().__init__(*args, **kwargs)\n",
      "  File \"/home/featurize/work/mmtracking/mmtrack/datasets/coco_video_dataset.py\", line 46, in __init__\n",
      "    super().__init__(*args, **kwargs)\n",
      "  File \"/environment/miniconda3/lib/python3.7/site-packages/mmdet/datasets/custom.py\", line 95, in __init__\n",
      "    self.data_infos = self.load_annotations(local_path)\n",
      "  File \"/home/featurize/work/mmtracking/mmtrack/datasets/imagenet_vid_dataset.py\", line 33, in load_annotations\n",
      "    data_infos = self.load_video_anns(ann_file)\n",
      "  File \"/home/featurize/work/mmtracking/mmtrack/datasets/imagenet_vid_dataset.py\", line 71, in load_video_anns\n",
      "    self.coco = CocoVID(ann_file)\n",
      "  File \"/home/featurize/work/mmtracking/mmtrack/datasets/parsers/coco_video_parser.py\", line 22, in __init__\n",
      "    super(CocoVID, self).__init__(annotation_file=annotation_file)\n",
      "  File \"/environment/miniconda3/lib/python3.7/site-packages/mmdet/datasets/api_wrappers/coco_api.py\", line 23, in __init__\n",
      "    super().__init__(annotation_file=annotation_file)\n",
      "  File \"/environment/miniconda3/lib/python3.7/site-packages/pycocotools/coco.py\", line 84, in __init__\n",
      "    with open(annotation_file, 'r') as f:\n",
      "FileNotFoundError: [Errno 2] No such file or directory: 'data/ILSVRC/annotations/imagenet_vid_val.json'\n",
      "\n",
      "During handling of the above exception, another exception occurred:\n",
      "\n",
      "Traceback (most recent call last):\n",
      "  File \"tools/test.py\", line 225, in <module>\n",
      "    main()\n",
      "  File \"tools/test.py\", line 151, in main\n",
      "    dataset = build_dataset(cfg.data.test)\n",
      "  File \"/environment/miniconda3/lib/python3.7/site-packages/mmdet/datasets/builder.py\", line 81, in build_dataset\n",
      "    dataset = build_from_cfg(cfg, DATASETS, default_args)\n",
      "  File \"/environment/miniconda3/lib/python3.7/site-packages/mmcv/utils/registry.py\", line 55, in build_from_cfg\n",
      "    raise type(e)(f'{obj_cls.__name__}: {e}')\n",
      "FileNotFoundError: ImagenetVIDDataset: [Errno 2] No such file or directory: 'data/ILSVRC/annotations/imagenet_vid_val.json'\n"
     ]
    }
   ],
   "source": [
    "!python tools/test.py configs/vid/dff/dff_faster_rcnn_r101_dc5_1x_imagenetvid.py \\\n",
    "    --checkpoint checkpoints/dff_faster_rcnn_r101_dc5_1x_imagenetvid_20201218_172720-ad732e17.pth \\\n",
    "    --out results.pkl \\\n",
    "    --eval bbox"
   ]
  },
  {
   "cell_type": "code",
   "execution_count": null,
   "id": "5fb7198f-707a-4cd8-afaf-62c023938311",
   "metadata": {},
   "outputs": [],
   "source": []
  }
 ],
 "metadata": {
  "kernelspec": {
   "display_name": "Python 3 (ipykernel)",
   "language": "python",
   "name": "python3"
  },
  "language_info": {
   "codemirror_mode": {
    "name": "ipython",
    "version": 3
   },
   "file_extension": ".py",
   "mimetype": "text/x-python",
   "name": "python",
   "nbconvert_exporter": "python",
   "pygments_lexer": "ipython3",
   "version": "3.7.10"
  }
 },
 "nbformat": 4,
 "nbformat_minor": 5
}
