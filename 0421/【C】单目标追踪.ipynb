{
 "cells": [
  {
   "cell_type": "markdown",
   "id": "2d2a938c-8c6b-481f-9ccb-eef8bba5111e",
   "metadata": {
    "tags": []
   },
   "source": [
    "# 单目标追踪 Single Object Tracking （SOT）\n",
    "\n",
    "在视频初始帧中，框选要追踪的`单个`目标，在后续视频中追踪该目标。\n",
    "\n",
    "参考文档：https://github.com/open-mmlab/mmtracking/blob/master/docs/en/quick_run.md\n",
    "\n",
    "MMtracking 预训练模型库 Model Zoo：https://mmtracking.readthedocs.io/en/latest/model_zoo.html\n",
    "\n",
    "如果报错`CUDA out of memory.`则重启前面几个代码的`kernel`即可。\n",
    "\n",
    "作者：同济子豪兄 2022-4-21"
   ]
  },
  {
   "cell_type": "markdown",
   "id": "d450ea5b-2861-4d28-8202-54340008b58c",
   "metadata": {},
   "source": [
    "## 进入 MMTracking 主目录"
   ]
  },
  {
   "cell_type": "code",
   "execution_count": 1,
   "id": "e6d2b4c5-938e-4ea8-816a-f17e843bf3f6",
   "metadata": {},
   "outputs": [
    {
     "data": {
      "text/plain": [
       "['.git',\n",
       " '.circleci',\n",
       " '.dev_scripts',\n",
       " '.github',\n",
       " '.gitignore',\n",
       " '.pre-commit-config.yaml',\n",
       " '.readthedocs.yml',\n",
       " 'CITATION.cff',\n",
       " 'LICENSE',\n",
       " 'MANIFEST.in',\n",
       " 'README.md',\n",
       " 'README_zh-CN.md',\n",
       " 'configs',\n",
       " 'demo',\n",
       " 'docker',\n",
       " 'docs',\n",
       " 'mmtrack',\n",
       " 'model-index.yml',\n",
       " 'requirements.txt',\n",
       " 'requirements',\n",
       " 'resources',\n",
       " 'setup.cfg',\n",
       " 'setup.py',\n",
       " 'tests',\n",
       " 'tools',\n",
       " 'mmtrack.egg-info',\n",
       " 'checkpoints',\n",
       " 'outputs',\n",
       " 'data']"
      ]
     },
     "execution_count": 1,
     "metadata": {},
     "output_type": "execute_result"
    }
   ],
   "source": [
    "import os\n",
    "os.chdir('mmtracking')\n",
    "os.listdir()"
   ]
  },
  {
   "cell_type": "markdown",
   "id": "16f95177-53df-4e3d-b561-41ab7c1f05fb",
   "metadata": {},
   "source": [
    "## 导入工具包"
   ]
  },
  {
   "cell_type": "code",
   "execution_count": 2,
   "id": "21e1823a-d785-4a33-90da-819f28e6340c",
   "metadata": {},
   "outputs": [],
   "source": [
    "# opencv-python\n",
    "import cv2\n",
    "\n",
    "import numpy as np\n",
    "\n",
    "# 导入python绘图matplotlib\n",
    "import matplotlib.pyplot as plt\n",
    "# 使用ipython的魔法方法，将绘制出的图像直接嵌入在notebook单元格中\n",
    "%matplotlib inline\n",
    "\n",
    "# 定义可视化图像函数\n",
    "def show_img_from_array(img):\n",
    "    '''opencv读入图像格式为BGR，matplotlib可视化格式为RGB，因此需将BGR转RGB'''\n",
    "    img_RGB = cv2.cvtColor(img, cv2.COLOR_BGR2RGB)\n",
    "    plt.imshow(img_RGB)\n",
    "    plt.show()"
   ]
  },
  {
   "cell_type": "markdown",
   "id": "a9146bb0-0a37-412b-8daa-7dab7a26618e",
   "metadata": {},
   "source": [
    "## 在本地运行`【D】获取视频第一帧单目标检测框（需在本地运行）.ipynb`，将坐标复制粘贴至`data/gt_box_file.txt`"
   ]
  },
  {
   "cell_type": "code",
   "execution_count": null,
   "id": "02bf84a1-206c-4645-b0b6-904709a41294",
   "metadata": {
    "tags": []
   },
   "outputs": [],
   "source": [
    "# 参考坐标\n",
    "\n",
    "# bee.mp4\n",
    "# 第一只蜜蜂：132, 59, 57, 61\n",
    "# 第二只蜜蜂：694, 151, 87, 79\n",
    "# 第三只蜜蜂：1266, 462, 12, 35\n",
    "\n",
    "# billiards1.mp4\n",
    "336, 401, 14, 14\n",
    "\n",
    "# billiards2.mp4\n",
    "229, 296, 8, 8\n",
    "\n",
    "# billiards3.mp4\n",
    "# 左边白球：325, 64, 12, 13\n",
    "# 右边白球：339, 63, 12, 13"
   ]
  },
  {
   "cell_type": "markdown",
   "id": "01ed39da-f33a-433a-a05f-6d480f5ac0b4",
   "metadata": {},
   "source": [
    "## 命令行方式实现"
   ]
  },
  {
   "cell_type": "code",
   "execution_count": 4,
   "id": "0c3e338c-8ab9-46bd-8c6f-8369ea9f8460",
   "metadata": {},
   "outputs": [
    {
     "name": "stdout",
     "output_type": "stream",
     "text": [
      "2022-04-21 13:04:36,245 - mmtrack - INFO - initialize SOTResNet with init_cfg {'type': 'Pretrained', 'checkpoint': 'https://download.openmmlab.com/mmtracking/pretrained_weights/sot_resnet50.model'}\n",
      "2022-04-21 13:04:36,246 - mmcv - INFO - load model from: https://download.openmmlab.com/mmtracking/pretrained_weights/sot_resnet50.model\n",
      "2022-04-21 13:04:36,246 - mmcv - INFO - load checkpoint from http path: https://download.openmmlab.com/mmtracking/pretrained_weights/sot_resnet50.model\n",
      "Downloading: \"https://download.openmmlab.com/mmtracking/pretrained_weights/sot_resnet50.model\" to /home/featurize/.cache/torch/hub/checkpoints/sot_resnet50.model\n",
      "100%|████████████████████████████████████████| 174M/174M [00:02<00:00, 69.3MB/s]\n",
      "load checkpoint from http path: https://download.openmmlab.com/mmtracking/sot/siamese_rpn/siamese_rpn_r50_1x_lasot/siamese_rpn_r50_1x_lasot_20211203_151612-da4b3c66.pth\n",
      "Downloading: \"https://download.openmmlab.com/mmtracking/sot/siamese_rpn/siamese_rpn_r50_1x_lasot/siamese_rpn_r50_1x_lasot_20211203_151612-da4b3c66.pth\" to /home/featurize/.cache/torch/hub/checkpoints/siamese_rpn_r50_1x_lasot_20211203_151612-da4b3c66.pth\n",
      "100%|████████████████████████████████████████| 206M/206M [00:03<00:00, 67.3MB/s]\n",
      "Warning: The model doesn't have classes\n",
      "[>>>>>>>>>>>>>>>>>>>>>>>>>>>> ] 766/774, 16.4 task/s, elapsed: 47s, ETA:     0s\n",
      "making the output video at outputs/C1_SOT_bee.mp4 with a FPS of 30\n",
      "[>>>>>>>>>>>>>>>>>>>>>>>>>>>>>] 766/766, 65.1 task/s, elapsed: 12s, ETA:     0s\n"
     ]
    }
   ],
   "source": [
    "!python ./demo/demo_sot.py \\\n",
    "        ./configs/sot/siamese_rpn/siamese_rpn_r50_20e_lasot.py \\\n",
    "        --checkpoint https://download.openmmlab.com/mmtracking/sot/siamese_rpn/siamese_rpn_r50_1x_lasot/siamese_rpn_r50_1x_lasot_20211203_151612-da4b3c66.pth \\\n",
    "        --input data/bee.mp4 \\\n",
    "        --output outputs/C1_SOT_bee.mp4 \\\n",
    "        --thickness 2 \\\n",
    "        --gt_bbox_file data/gt_box_file.txt\n"
   ]
  },
  {
   "cell_type": "markdown",
   "id": "468a2283-1c12-4940-af5c-9555a6a52d3f",
   "metadata": {},
   "source": [
    "## Python API 方式实现"
   ]
  },
  {
   "cell_type": "markdown",
   "id": "096634a5-8b86-497d-8be1-0bde732ba6f2",
   "metadata": {},
   "source": [
    "### 单目标追踪"
   ]
  },
  {
   "cell_type": "code",
   "execution_count": 6,
   "id": "941269a5-d740-4d8a-904a-ba7441a2792a",
   "metadata": {},
   "outputs": [
    {
     "name": "stderr",
     "output_type": "stream",
     "text": [
      "2022-04-21 13:09:26,649 - mmtrack - INFO - initialize SOTResNet with init_cfg {'type': 'Pretrained', 'checkpoint': 'https://download.openmmlab.com/mmtracking/pretrained_weights/sot_resnet50.model'}\n",
      "2022-04-21 13:09:26,650 - mmcv - INFO - load model from: https://download.openmmlab.com/mmtracking/pretrained_weights/sot_resnet50.model\n",
      "2022-04-21 13:09:26,651 - mmcv - INFO - load checkpoint from http path: https://download.openmmlab.com/mmtracking/pretrained_weights/sot_resnet50.model\n"
     ]
    },
    {
     "name": "stdout",
     "output_type": "stream",
     "text": [
      "load checkpoint from http path: https://download.openmmlab.com/mmtracking/sot/siamese_rpn/siamese_rpn_r50_1x_lasot/siamese_rpn_r50_1x_lasot_20211203_151612-da4b3c66.pth\n",
      "Warning: The model doesn't have classes\n",
      "[>>>>>>>>>>>>>>>>>>>>>>>>>>>> ] 766/774, 16.7 task/s, elapsed: 46s, ETA:     0s\n",
      " making the output video at outputs/C2_SOT_bee.mp4 with a FPS of 30.0\n",
      "[>>>>>>>>>>>>>>>>>>>>>>>>>>>>>] 766/766, 61.6 task/s, elapsed: 12s, ETA:     0s\n"
     ]
    }
   ],
   "source": [
    "import mmcv\n",
    "import tempfile\n",
    "from mmtrack.apis import inference_sot, init_model\n",
    "\n",
    "# 输入输出视频路径\n",
    "input_video = 'data/bee.mp4'\n",
    "output = 'outputs/C2_SOT_bee.mp4'\n",
    "\n",
    "# 指定单目标追踪算法 config 配置文件\n",
    "sot_config = './configs/sot/siamese_rpn/siamese_rpn_r50_20e_lasot.py'\n",
    "# 指定单目标检测算法的模型权重文件\n",
    "sot_checkpoint = 'https://download.openmmlab.com/mmtracking/sot/siamese_rpn/siamese_rpn_r50_1x_lasot/siamese_rpn_r50_1x_lasot_20211203_151612-da4b3c66.pth'\n",
    "# 初始化单目标追踪模型\n",
    "sot_model = init_model(sot_config, sot_checkpoint, device='cuda:0')\n",
    "\n",
    "# 指定初始框的坐标 [x, y, w, h]\n",
    "init_bbox = [132, 59, 57, 61]\n",
    "\n",
    "# 转成 [x1, y1, x2, y2 ]\n",
    "init_bbox = [init_bbox[0], init_bbox[1], init_bbox[0]+init_bbox[2], init_bbox[1]+init_bbox[3]]\n",
    "\n",
    "# 读入待预测视频\n",
    "imgs = mmcv.VideoReader(input_video)\n",
    "prog_bar = mmcv.ProgressBar(len(imgs))\n",
    "out_dir = tempfile.TemporaryDirectory()\n",
    "out_path = out_dir.name\n",
    "# 逐帧输入模型预测\n",
    "for i, img in enumerate(imgs):\n",
    "    result = inference_sot(sot_model, img, init_bbox, frame_id=i)\n",
    "    \n",
    "    # 绘制矩形框中心点构成的轨迹\n",
    "    result_int = result['track_bboxes'].astype('uint32')\n",
    "    \n",
    "    sot_model.show_result(\n",
    "            img,\n",
    "            result,\n",
    "            wait_time=int(1000. / imgs.fps),\n",
    "            out_file=f'{out_path}/{i:06d}.jpg')\n",
    "    prog_bar.update()\n",
    "\n",
    "print(f'\\n making the output video at {output} with a FPS of {imgs.fps}')\n",
    "mmcv.frames2video(out_path, output, fps=imgs.fps, fourcc='mp4v')\n",
    "out_dir.cleanup()"
   ]
  },
  {
   "cell_type": "markdown",
   "id": "6de5676e-f1f6-43e0-ab10-891e9c6be0fa",
   "metadata": {
    "tags": []
   },
   "source": [
    "### 单目标追踪 + 轨迹绘制"
   ]
  },
  {
   "cell_type": "code",
   "execution_count": 7,
   "id": "5fb7198f-707a-4cd8-afaf-62c023938311",
   "metadata": {},
   "outputs": [
    {
     "name": "stderr",
     "output_type": "stream",
     "text": [
      "2022-04-21 13:10:32,839 - mmtrack - INFO - initialize SOTResNet with init_cfg {'type': 'Pretrained', 'checkpoint': 'https://download.openmmlab.com/mmtracking/pretrained_weights/sot_resnet50.model'}\n",
      "2022-04-21 13:10:32,841 - mmcv - INFO - load model from: https://download.openmmlab.com/mmtracking/pretrained_weights/sot_resnet50.model\n",
      "2022-04-21 13:10:32,843 - mmcv - INFO - load checkpoint from http path: https://download.openmmlab.com/mmtracking/pretrained_weights/sot_resnet50.model\n"
     ]
    },
    {
     "name": "stdout",
     "output_type": "stream",
     "text": [
      "load checkpoint from http path: https://download.openmmlab.com/mmtracking/sot/siamese_rpn/siamese_rpn_r50_1x_lasot/siamese_rpn_r50_1x_lasot_20211203_151612-da4b3c66.pth\n",
      "Warning: The model doesn't have classes\n",
      "[>>>>>>>>>>>>>>>>>>>>>>>>>>>> ] 766/774, 16.1 task/s, elapsed: 47s, ETA:     0s\n",
      " making the output video at outputs/C3_SOT_bee_trace.mp4 with a FPS of 30.0\n",
      "[>>>>>>>>>>>>>>>>>>>>>>>>>>>>>] 766/766, 59.8 task/s, elapsed: 13s, ETA:     0s\n"
     ]
    }
   ],
   "source": [
    "import mmcv\n",
    "import tempfile\n",
    "from mmtrack.apis import inference_sot, init_model\n",
    "\n",
    "# 输入输出视频路径\n",
    "input_video = 'data/bee.mp4'\n",
    "output = 'outputs/C3_SOT_bee_trace.mp4'\n",
    "\n",
    "# 指定单目标追踪算法 config 配置文件\n",
    "sot_config = './configs/sot/siamese_rpn/siamese_rpn_r50_20e_lasot.py'\n",
    "# 指定单目标检测算法的模型权重文件\n",
    "sot_checkpoint = 'https://download.openmmlab.com/mmtracking/sot/siamese_rpn/siamese_rpn_r50_1x_lasot/siamese_rpn_r50_1x_lasot_20211203_151612-da4b3c66.pth'\n",
    "# 初始化单目标追踪模型\n",
    "sot_model = init_model(sot_config, sot_checkpoint, device='cuda:0')\n",
    "\n",
    "# 指定初始框的坐标 [x, y, w, h]\n",
    "init_bbox = [132, 59, 57, 61]\n",
    "\n",
    "# 转成 [x1, y1, x2, y2 ]\n",
    "init_bbox = [init_bbox[0], init_bbox[1], init_bbox[0]+init_bbox[2], init_bbox[1]+init_bbox[3]]\n",
    "\n",
    "# 读入待预测视频\n",
    "imgs = mmcv.VideoReader(input_video)\n",
    "prog_bar = mmcv.ProgressBar(len(imgs))\n",
    "out_dir = tempfile.TemporaryDirectory()\n",
    "out_path = out_dir.name\n",
    "# 逐帧输入模型预测\n",
    "circle_coord_list = []\n",
    "for i, img in enumerate(imgs):\n",
    "    result = inference_sot(sot_model, img, init_bbox, frame_id=i)\n",
    "    \n",
    "    # 绘制矩形框中心点构成的轨迹\n",
    "    result_int = result['track_bboxes'].astype('uint32')\n",
    "    circle_x = int((result_int[0] + result_int[2]) / 2)\n",
    "    circle_y = int((result_int[1] + result_int[3]) / 2)\n",
    "    circle_coord_list.append([circle_x, circle_y])\n",
    "    for each in circle_coord_list:\n",
    "        # 绘制圆，指定圆心坐标和半径，红色，最后一个参数为线宽，-1表示填充\n",
    "        cv2.circle(img,(each[0],each[1]), 5, (0,0,255), -1)\n",
    "    \n",
    "    sot_model.show_result(\n",
    "            img,\n",
    "            result,\n",
    "            wait_time=int(1000. / imgs.fps),\n",
    "            out_file=f'{out_path}/{i:06d}.jpg')\n",
    "    prog_bar.update()\n",
    "\n",
    "print(f'\\n making the output video at {output} with a FPS of {imgs.fps}')\n",
    "mmcv.frames2video(out_path, output, fps=imgs.fps, fourcc='mp4v')\n",
    "out_dir.cleanup()"
   ]
  },
  {
   "cell_type": "code",
   "execution_count": 13,
   "id": "1c993a3a-0a37-440e-b922-2fe4cc80e974",
   "metadata": {},
   "outputs": [
    {
     "data": {
      "text/plain": [
       "766"
      ]
     },
     "execution_count": 13,
     "metadata": {},
     "output_type": "execute_result"
    }
   ],
   "source": [
    "# circle_coord_list 中记录了每一帧的轨迹点坐标\n",
    "len(circle_coord_list)"
   ]
  },
  {
   "cell_type": "code",
   "execution_count": 14,
   "id": "7e3b9465-f0c2-415e-b019-25208bc568f2",
   "metadata": {},
   "outputs": [
    {
     "data": {
      "text/plain": [
       "[[160, 89],\n",
       " [165, 95],\n",
       " [168, 100],\n",
       " [172, 105],\n",
       " [175, 111],\n",
       " [178, 117],\n",
       " [181, 121],\n",
       " [184, 127],\n",
       " [188, 133],\n",
       " [193, 138]]"
      ]
     },
     "execution_count": 14,
     "metadata": {},
     "output_type": "execute_result"
    }
   ],
   "source": [
    "circle_coord_list[:10]"
   ]
  },
  {
   "cell_type": "markdown",
   "id": "6d00b392-b6a7-481b-9a4c-01031019db3c",
   "metadata": {
    "tags": []
   },
   "source": [
    "### 单目标追踪 + 轨迹绘制（完全OpenCV实现）"
   ]
  },
  {
   "cell_type": "code",
   "execution_count": 15,
   "id": "282f44e5-f7b1-48ae-ad3c-c3f843cb90d4",
   "metadata": {},
   "outputs": [
    {
     "name": "stderr",
     "output_type": "stream",
     "text": [
      "2022-04-21 13:14:03,351 - mmtrack - INFO - initialize SOTResNet with init_cfg {'type': 'Pretrained', 'checkpoint': 'https://download.openmmlab.com/mmtracking/pretrained_weights/sot_resnet50.model'}\n",
      "2022-04-21 13:14:03,353 - mmcv - INFO - load model from: https://download.openmmlab.com/mmtracking/pretrained_weights/sot_resnet50.model\n",
      "2022-04-21 13:14:03,354 - mmcv - INFO - load checkpoint from http path: https://download.openmmlab.com/mmtracking/pretrained_weights/sot_resnet50.model\n"
     ]
    },
    {
     "name": "stdout",
     "output_type": "stream",
     "text": [
      "load checkpoint from http path: https://download.openmmlab.com/mmtracking/sot/siamese_rpn/siamese_rpn_r50_1x_lasot/siamese_rpn_r50_1x_lasot_20211203_151612-da4b3c66.pth\n",
      "Warning: The model doesn't have classes\n",
      "[                                                  ] 0/774, elapsed: 0s, ETA:开始逐帧处理\n",
      "[>>>>>>>>>>>>>>>>>>>>>>>>>>>> ] 766/774, 16.5 task/s, elapsed: 46s, ETA:     0s导出视频，FPS 30.0\n",
      "[>>>>>>>>>>>>>>>>>>>>>>>>>>>>>] 766/766, 56.4 task/s, elapsed: 14s, ETA:     0s\n",
      "已成功导出视频 至 outputs/C4_SOT_bee_trace.mp4\n"
     ]
    }
   ],
   "source": [
    "import mmcv\n",
    "import tempfile\n",
    "from mmtrack.apis import inference_sot, init_model\n",
    "\n",
    "# 输入输出视频路径\n",
    "input_video = 'data/bee.mp4'\n",
    "output = 'outputs/C4_SOT_bee_trace.mp4'\n",
    "\n",
    "# 指定单目标追踪算法 config 配置文件\n",
    "sot_config = './configs/sot/siamese_rpn/siamese_rpn_r50_20e_lasot.py'\n",
    "# 指定单目标检测算法的模型权重文件\n",
    "sot_checkpoint = 'https://download.openmmlab.com/mmtracking/sot/siamese_rpn/siamese_rpn_r50_1x_lasot/siamese_rpn_r50_1x_lasot_20211203_151612-da4b3c66.pth'\n",
    "# 初始化单目标追踪模型\n",
    "sot_model = init_model(sot_config, sot_checkpoint, device='cuda:0')\n",
    "\n",
    "# 指定初始目标矩形框坐标 [x, y, w, h]\n",
    "init_bbox_xywh = [132, 59, 57, 61]\n",
    "\n",
    "# 转成 [x1, y1, x2, y2 ]\n",
    "init_bbox_xyxy = [init_bbox_xywh[0], init_bbox_xywh[1], init_bbox_xywh[0]+init_bbox_xywh[2], init_bbox_xywh[1]+init_bbox_xywh[3]]\n",
    "\n",
    "# 读入待预测视频\n",
    "imgs = mmcv.VideoReader(input_video)\n",
    "prog_bar = mmcv.ProgressBar(len(imgs))\n",
    "out_dir = tempfile.TemporaryDirectory()\n",
    "out_path = out_dir.name\n",
    "\n",
    "# 逐帧输入模型预测\n",
    "circle_coord_list = []\n",
    "print('开始逐帧处理')\n",
    "for i, img in enumerate(imgs):\n",
    "    img_draw = img.copy()\n",
    "    \n",
    "    result = inference_sot(sot_model, img, init_bbox_xyxy, frame_id=i)\n",
    "    # 目标检测矩形框坐标\n",
    "    result_bbox = result['track_bboxes'][:4].astype('uint32')\n",
    "    \n",
    "    # 绘制目标检测矩形框：图像，左上角坐标，右下角坐标，颜色，线宽\n",
    "    img_draw = cv2.rectangle(img_draw, (result_bbox[0], result_bbox[1]), (result_bbox[2], result_bbox[3]), (0,255,0), 2)    \n",
    "    \n",
    "    # 获取矩形框中心点轨迹点坐标\n",
    "    circle_x = int((result_bbox[0] + result_bbox[2]) / 2)\n",
    "    circle_y = int((result_bbox[1] + result_bbox[3]) / 2)\n",
    "    circle_coord_list.append([circle_x, circle_y])\n",
    "    # 绘制从第一帧到当前帧的轨迹\n",
    "    for each in circle_coord_list:\n",
    "        # 绘制圆，指定圆心坐标和半径，红色，最后一个参数为线宽，-1表示填充\n",
    "        img_draw = cv2.circle(img_draw, (each[0],each[1]), 5, (0,0,255), -1)\n",
    "    \n",
    "    # 将当前帧的可视化效果保存为图片文件\n",
    "    cv2.imwrite(f'{out_path}/{i:06d}.jpg', img_draw)\n",
    "    prog_bar.update()\n",
    "\n",
    "# 将保存下来的各帧图片文件串成视频\n",
    "print('导出视频，FPS {}'.format(imgs.fps))\n",
    "mmcv.frames2video(out_path, output, fps=imgs.fps, fourcc='mp4v')\n",
    "print('已成功导出视频 至 {}'.format(output))\n",
    "out_dir.cleanup()"
   ]
  },
  {
   "cell_type": "markdown",
   "id": "525130d9-1f55-42d6-8352-043ac8e77599",
   "metadata": {},
   "source": [
    "## Python API 方式实现（多个目标轨迹绘制）"
   ]
  },
  {
   "cell_type": "code",
   "execution_count": 8,
   "id": "f19325ce-fdb8-4ac8-983d-5a6256c8d09f",
   "metadata": {},
   "outputs": [],
   "source": [
    "import mmcv\n",
    "import tempfile\n",
    "from mmtrack.apis import inference_sot, init_model\n",
    "\n",
    "import seaborn as sns\n",
    "import random\n",
    "# 生成调色板\n",
    "palette = sns.color_palette('hls', 20)\n",
    "\n",
    "def get_color(seed):\n",
    "    '''\n",
    "    传入追踪ID，生成专属颜色\n",
    "    '''\n",
    "    random.seed(seed)\n",
    "    # 从调色板中随机挑选一种颜色\n",
    "    bbox_color = random.choice(palette)\n",
    "    bbox_color = [int(255 * c) for c in bbox_color][::-1]\n",
    "    return bbox_color"
   ]
  },
  {
   "cell_type": "code",
   "execution_count": 9,
   "id": "e7f39aaa-55bf-45d0-957e-321536f945fe",
   "metadata": {},
   "outputs": [
    {
     "name": "stderr",
     "output_type": "stream",
     "text": [
      "2022-04-19 21:35:18,281 - mmtrack - INFO - initialize SOTResNet with init_cfg {'type': 'Pretrained', 'checkpoint': 'https://download.openmmlab.com/mmtracking/pretrained_weights/sot_resnet50.model'}\n",
      "2022-04-19 21:35:18,283 - mmcv - INFO - load model from: https://download.openmmlab.com/mmtracking/pretrained_weights/sot_resnet50.model\n",
      "2022-04-19 21:35:18,284 - mmcv - INFO - load checkpoint from http path: https://download.openmmlab.com/mmtracking/pretrained_weights/sot_resnet50.model\n"
     ]
    },
    {
     "name": "stdout",
     "output_type": "stream",
     "text": [
      "load checkpoint from http path: https://download.openmmlab.com/mmtracking/sot/siamese_rpn/siamese_rpn_r50_1x_lasot/siamese_rpn_r50_1x_lasot_20211203_151612-da4b3c66.pth\n",
      "Warning: The model doesn't have classes\n"
     ]
    }
   ],
   "source": [
    "# 输入输出视频路径\n",
    "input_video = 'data/billiards3.mp4'\n",
    "output = 'outputs/output_C4_SOT_billiards3_trace.mp4'\n",
    "\n",
    "# 指定单目标追踪算法 config 配置文件\n",
    "sot_config = './configs/sot/siamese_rpn/siamese_rpn_r50_20e_lasot.py'\n",
    "# 指定单目标检测算法的模型权重文件\n",
    "sot_checkpoint = 'https://download.openmmlab.com/mmtracking/sot/siamese_rpn/siamese_rpn_r50_1x_lasot/siamese_rpn_r50_1x_lasot_20211203_151612-da4b3c66.pth'\n",
    "# 初始化单目标追踪模型\n",
    "sot_model = init_model(sot_config, sot_checkpoint, device='cuda:0')"
   ]
  },
  {
   "cell_type": "code",
   "execution_count": 10,
   "id": "3d719ce5-ee25-4194-957f-a05bebbe28a3",
   "metadata": {},
   "outputs": [
    {
     "name": "stdout",
     "output_type": "stream",
     "text": [
      "共有2个待追踪目标\n"
     ]
    }
   ],
   "source": [
    "# 指定多个目标的初始矩形框坐标 [x, y, w, h]\n",
    "init_bbox_xywh = [[325, 64, 12, 13], [339, 63, 12, 13]]\n",
    "\n",
    "# 目标个数\n",
    "ID_num = len(init_bbox_xywh)\n",
    "print('共有{}个待追踪目标'.format(ID_num))\n",
    "\n",
    "# 转成 [x1, y1, x2, y2 ]\n",
    "init_bbox_xyxy = []\n",
    "for each in init_bbox_xywh:\n",
    "    init_bbox_xyxy.append([each[0], each[1], each[0]+each[2], each[1]+each[3]])"
   ]
  },
  {
   "cell_type": "code",
   "execution_count": 11,
   "id": "55bf6cbc-9524-48ab-b60a-68a91a91d6c5",
   "metadata": {},
   "outputs": [
    {
     "name": "stdout",
     "output_type": "stream",
     "text": [
      "开始逐帧处理\n",
      "\n",
      "\n",
      "追踪第1个目标\n",
      "[>>>>>>>>>>>>>>>>>>            ] 202/319, 26.0 task/s, elapsed: 8s, ETA:     5s\n",
      "\n",
      "追踪第2个目标\n",
      "[>>>>>>>>>>>>>>>>>>            ] 202/319, 25.2 task/s, elapsed: 8s, ETA:     5s"
     ]
    }
   ],
   "source": [
    "# 读入待预测视频\n",
    "imgs = mmcv.VideoReader(input_video)\n",
    "# prog_bar = mmcv.ProgressBar(len(imgs))\n",
    "out_dir = tempfile.TemporaryDirectory()\n",
    "out_path = out_dir.name\n",
    "\n",
    "## 获取每帧的追踪结果\n",
    "# 逐帧输入模型预测\n",
    "circle_coord_list = {}\n",
    "print('开始逐帧处理')\n",
    "\n",
    "for ID in range(ID_num): # 遍历每个待追踪目标\n",
    "    print('\\n')\n",
    "    print('追踪第{}个目标'.format(ID+1))\n",
    "    circle_coord_list[ID] = {}\n",
    "    circle_coord_list[ID]['bbox'] = []\n",
    "    circle_coord_list[ID]['trace'] = []\n",
    "    \n",
    "    # 启动进度条\n",
    "    prog_bar = mmcv.ProgressBar(len(imgs))\n",
    "    \n",
    "    for i, img in enumerate(imgs): # 遍历视频每一帧\n",
    "        \n",
    "        # 执行单目标追踪\n",
    "        result = inference_sot(sot_model, img, init_bbox_xyxy[ID], frame_id=i)\n",
    "        # 目标检测矩形框坐标\n",
    "        result_bbox = np.array(result['track_bboxes'][:4].astype('uint32'))\n",
    "        # 保存矩形框坐标\n",
    "        circle_coord_list[ID]['bbox'].append(result_bbox)\n",
    "        \n",
    "\n",
    "        # 获取矩形框中心点轨迹点坐标\n",
    "        circle_x = int((result_bbox[0] + result_bbox[2]) / 2)\n",
    "        circle_y = int((result_bbox[1] + result_bbox[3]) / 2)\n",
    "        # 保存轨迹点坐标\n",
    "        circle_coord_list[ID]['trace'].append(np.array([circle_x, circle_y]))\n",
    "        \n",
    "        prog_bar.update()"
   ]
  },
  {
   "cell_type": "code",
   "execution_count": 12,
   "id": "5b832938-1dcd-4825-9c1b-c2b83abb5179",
   "metadata": {},
   "outputs": [
    {
     "name": "stdout",
     "output_type": "stream",
     "text": [
      "[>>>>>>>>>>>>>>>>>>           ] 202/319, 148.1 task/s, elapsed: 1s, ETA:     1s导出视频，FPS 25.0\n",
      "[>>>>>>>>>>>>>>>>>>>>>>>>>>>>>] 202/202, 183.0 task/s, elapsed: 1s, ETA:     0s\n",
      "已成功导出视频 至 outputs/output_C4_SOT_billiards3_trace.mp4\n"
     ]
    }
   ],
   "source": [
    "## 可视化\n",
    "\n",
    "# 启动进度条\n",
    "prog_bar = mmcv.ProgressBar(len(imgs))\n",
    "\n",
    "for i, img in enumerate(imgs): # 遍历视频每一帧\n",
    "    img_draw = img.copy()\n",
    "    \n",
    "    for ID in range(ID_num): # 遍历每个待追踪目标\n",
    "        # 获取该目标的专属颜色\n",
    "        ID_color = get_color(ID)\n",
    "        \n",
    "        result_bbox = circle_coord_list[ID]['bbox'][i]\n",
    "        \n",
    "        # 绘制目标检测矩形框：图像，左上角坐标，右下角坐标，颜色，线宽\n",
    "        img_draw = cv2.rectangle(img_draw, (result_bbox[0], result_bbox[1]), (result_bbox[2], result_bbox[3]), ID_color, 2)  \n",
    "\n",
    "        # 绘制从第一帧到当前帧的轨迹\n",
    "        for each in circle_coord_list[ID]['trace'][:i]:\n",
    "            # 绘制圆，指定圆心坐标和半径，红色，最后一个参数为线宽，-1表示填充\n",
    "            img_draw = cv2.circle(img_draw, (each[0],each[1]), 2,  ID_color, -1)\n",
    "    \n",
    "    # 将当前帧的可视化效果保存为图片文件\n",
    "    cv2.imwrite(f'{out_path}/{i:06d}.jpg', img_draw)\n",
    "    prog_bar.update()\n",
    "    \n",
    "# 将保存下来的各帧图片文件串成视频\n",
    "print('导出视频，FPS {}'.format(imgs.fps))\n",
    "mmcv.frames2video(out_path, output, fps=imgs.fps, fourcc='mp4v')\n",
    "print('已成功导出视频 至 {}'.format(output))\n",
    "out_dir.cleanup()"
   ]
  },
  {
   "cell_type": "code",
   "execution_count": null,
   "id": "7961250a-a112-4521-9f8c-648fe203eb74",
   "metadata": {},
   "outputs": [],
   "source": []
  }
 ],
 "metadata": {
  "kernelspec": {
   "display_name": "Python 3 (ipykernel)",
   "language": "python",
   "name": "python3"
  },
  "language_info": {
   "codemirror_mode": {
    "name": "ipython",
    "version": 3
   },
   "file_extension": ".py",
   "mimetype": "text/x-python",
   "name": "python",
   "nbconvert_exporter": "python",
   "pygments_lexer": "ipython3",
   "version": "3.7.10"
  }
 },
 "nbformat": 4,
 "nbformat_minor": 5
}
