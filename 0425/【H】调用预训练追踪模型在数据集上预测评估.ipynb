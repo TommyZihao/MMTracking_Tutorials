{
 "cells": [
  {
   "cell_type": "markdown",
   "id": "bf347f35-7b0e-413f-9f16-9c5cf5f556af",
   "metadata": {},
   "source": [
    "# 调用预训练追踪模型在数据集上预测评估"
   ]
  },
  {
   "cell_type": "markdown",
   "id": "1b43d2ef-0c72-47d0-9b34-05ef25beb925",
   "metadata": {},
   "source": [
    "如果报错`CUDA out of memory.`则重启前面几个代码的`kernel`即可。\n",
    "\n",
    "作者：同济子豪兄、张经伟\n",
    "\n",
    "2022-4-21"
   ]
  },
  {
   "cell_type": "markdown",
   "id": "f08dddcb-4f07-45dd-8763-540d41492c57",
   "metadata": {},
   "source": [
    "## 进入 MMTracking 主目录"
   ]
  },
  {
   "cell_type": "code",
   "execution_count": null,
   "id": "01fbcfcc-e626-4926-93fb-10954715e503",
   "metadata": {},
   "outputs": [],
   "source": [
    "# 设置上一级目录为主目录，即mmtracking主目录¶\n",
    "import os\n",
    "os.chdir('mmtracking')\n",
    "os.listdir()"
   ]
  },
  {
   "cell_type": "markdown",
   "id": "b5711b02-c1d7-4e06-bbf4-b4e302535a0d",
   "metadata": {},
   "source": [
    "## 测试VID模型"
   ]
  },
  {
   "cell_type": "markdown",
   "id": "360129c5-8f85-4689-ba89-38ea5ab5f3ae",
   "metadata": {},
   "source": [
    "在ImageNet VID数据集上，评估DFF模型的bbox mAP"
   ]
  },
  {
   "cell_type": "code",
   "execution_count": null,
   "id": "bee0d93d-7bbd-41ba-90b2-10c01fd8a085",
   "metadata": {},
   "outputs": [],
   "source": [
    "!python tools/test.py  \\\n",
    "    configs/vid/dff/dff_faster_rcnn_r101_dc5_1x_imagenetvid.py \\\n",
    "    --checkpoint checkpoints/dff_faster_rcnn_r101_dc5_1x_imagenetvid_20201218_172720-ad732e17.pth \\\n",
    "    --out results.pkl \\\n",
    "    --eval bbox"
   ]
  },
  {
   "cell_type": "code",
   "execution_count": null,
   "id": "5fb7198f-707a-4cd8-afaf-62c023938311",
   "metadata": {},
   "outputs": [],
   "source": []
  }
 ],
 "metadata": {
  "kernelspec": {
   "display_name": "Python 3 (ipykernel)",
   "language": "python",
   "name": "python3"
  },
  "language_info": {
   "codemirror_mode": {
    "name": "ipython",
    "version": 3
   },
   "file_extension": ".py",
   "mimetype": "text/x-python",
   "name": "python",
   "nbconvert_exporter": "python",
   "pygments_lexer": "ipython3",
   "version": "3.7.10"
  }
 },
 "nbformat": 4,
 "nbformat_minor": 5
}
