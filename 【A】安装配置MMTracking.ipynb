{
 "cells": [
  {
   "cell_type": "markdown",
   "id": "bc3d1961-9081-49c9-be56-ad0c748decf1",
   "metadata": {},
   "source": [
    "# 安装配置MMTracking"
   ]
  },
  {
   "cell_type": "markdown",
   "id": "0fc8ebd8-db6e-4a17-895f-2f87fc98ca79",
   "metadata": {},
   "source": [
    "按照顺序逐行运行本代码，即可安装配置 MMCV、MMDetection、MMTracking环境\n",
    "\n",
    "代码测试[云GPU环境](https://featurize.cn?s=d7ce99f842414bfcaea5662a97581bd1)：GPU RTX 3060、CUDA v11.2\n",
    "\n",
    "OpenMMLab主页：https://openmmlab.com/\n",
    "\n",
    "MMTracking主页：https://github.com/open-mmlab/mmtracking\n",
    "\n",
    "MMDetection主页：https://github.com/open-mmlab/mmdetection\n",
    "\n",
    "作者：同济子豪兄 2022-03-29"
   ]
  },
  {
   "cell_type": "markdown",
   "id": "63d0dc47-4601-49a3-8d25-12b4d24fa6f0",
   "metadata": {},
   "source": [
    "> 提示：以下代码运行时，若长时间运行卡着不动，可重启 kernel 后重新运行一遍"
   ]
  },
  {
   "cell_type": "markdown",
   "id": "6fc1c686-1267-4503-b9e4-bcb188a7f974",
   "metadata": {
    "tags": []
   },
   "source": [
    "## 下载安装Pytorch（大约需要两分钟）"
   ]
  },
  {
   "cell_type": "code",
   "execution_count": 1,
   "id": "2fef57fc-d5f0-4cd0-a134-1f025c15439f",
   "metadata": {},
   "outputs": [
    {
     "name": "stdout",
     "output_type": "stream",
     "text": [
      "Looking in indexes: https://pypi.tuna.tsinghua.edu.cn/simple\n",
      "Looking in links: https://download.pytorch.org/whl/cu113/torch_stable.html\n",
      "Requirement already satisfied: install in /environment/miniconda3/lib/python3.7/site-packages (1.3.5)\n",
      "Requirement already satisfied: torch==1.10.1+cu113 in /environment/miniconda3/lib/python3.7/site-packages (1.10.1+cu113)\n",
      "Requirement already satisfied: torchvision==0.11.2+cu113 in /environment/miniconda3/lib/python3.7/site-packages (0.11.2+cu113)\n",
      "Requirement already satisfied: torchaudio==0.10.1+cu113 in /environment/miniconda3/lib/python3.7/site-packages (0.10.1+cu113)\n",
      "Requirement already satisfied: typing-extensions in /environment/miniconda3/lib/python3.7/site-packages (from torch==1.10.1+cu113) (4.0.1)\n",
      "Requirement already satisfied: pillow!=8.3.0,>=5.3.0 in /environment/miniconda3/lib/python3.7/site-packages (from torchvision==0.11.2+cu113) (8.4.0)\n",
      "Requirement already satisfied: numpy in /environment/miniconda3/lib/python3.7/site-packages (from torchvision==0.11.2+cu113) (1.21.4)\n"
     ]
    }
   ],
   "source": [
    "# 安装Pytorch\n",
    "!pip3 install install torch==1.10.1+cu113 torchvision==0.11.2+cu113 torchaudio==0.10.1+cu113 -f https://download.pytorch.org/whl/cu113/torch_stable.html"
   ]
  },
  {
   "cell_type": "markdown",
   "id": "30ca00a2-4f39-44f3-9379-8889e3a24b39",
   "metadata": {},
   "source": [
    "## 下载安装 mmcv-full（大约需要两分钟）"
   ]
  },
  {
   "cell_type": "code",
   "execution_count": 2,
   "id": "69d80570-7eb5-4bf4-a84d-39106d23f73b",
   "metadata": {},
   "outputs": [
    {
     "name": "stdout",
     "output_type": "stream",
     "text": [
      "Looking in indexes: https://pypi.tuna.tsinghua.edu.cn/simple\n",
      "Looking in links: https://download.openmmlab.com/mmcv/dist/cu113/torch1.10.0/index.html\n",
      "Requirement already satisfied: mmcv-full in /environment/miniconda3/lib/python3.7/site-packages (1.5.0)\n",
      "Requirement already satisfied: addict in /environment/miniconda3/lib/python3.7/site-packages (from mmcv-full) (2.4.0)\n",
      "Requirement already satisfied: opencv-python>=3 in /environment/miniconda3/lib/python3.7/site-packages (from mmcv-full) (4.5.4.60)\n",
      "Requirement already satisfied: packaging in /environment/miniconda3/lib/python3.7/site-packages (from mmcv-full) (21.3)\n",
      "Requirement already satisfied: yapf in /environment/miniconda3/lib/python3.7/site-packages (from mmcv-full) (0.31.0)\n",
      "Requirement already satisfied: pyyaml in /environment/miniconda3/lib/python3.7/site-packages (from mmcv-full) (6.0)\n",
      "Requirement already satisfied: Pillow in /environment/miniconda3/lib/python3.7/site-packages (from mmcv-full) (8.4.0)\n",
      "Requirement already satisfied: numpy in /environment/miniconda3/lib/python3.7/site-packages (from mmcv-full) (1.21.4)\n",
      "Requirement already satisfied: pyparsing!=3.0.5,>=2.0.2 in /environment/miniconda3/lib/python3.7/site-packages (from packaging->mmcv-full) (3.0.6)\n"
     ]
    }
   ],
   "source": [
    "# 安装mmcv -full\n",
    "!pip install mmcv-full -f https://download.openmmlab.com/mmcv/dist/cu113/torch1.10.0/index.html"
   ]
  },
  {
   "cell_type": "markdown",
   "id": "38c55520-071b-41de-91f4-3ec78e16bf27",
   "metadata": {},
   "source": [
    "## 安装其它工具包（大约需要一分钟）"
   ]
  },
  {
   "cell_type": "code",
   "execution_count": 3,
   "id": "eb4b3373-f117-46a9-ab43-e67753eb7c61",
   "metadata": {},
   "outputs": [
    {
     "name": "stdout",
     "output_type": "stream",
     "text": [
      "Looking in indexes: https://pypi.tuna.tsinghua.edu.cn/simple\n",
      "Requirement already satisfied: mmdet in /environment/miniconda3/lib/python3.7/site-packages (2.23.0)\n",
      "Requirement already satisfied: seaborn in /environment/miniconda3/lib/python3.7/site-packages (0.11.2)\n",
      "Requirement already satisfied: ipywidgets in /environment/miniconda3/lib/python3.7/site-packages (7.6.5)\n",
      "Requirement already satisfied: tqdm in /environment/miniconda3/lib/python3.7/site-packages (4.61.2)\n",
      "Requirement already satisfied: imageio-ffmpeg in /environment/miniconda3/lib/python3.7/site-packages (0.4.7)\n",
      "Requirement already satisfied: ninja in /environment/miniconda3/lib/python3.7/site-packages (1.10.2.3)\n",
      "Requirement already satisfied: terminaltables in /environment/miniconda3/lib/python3.7/site-packages (from mmdet) (3.1.10)\n",
      "Requirement already satisfied: pycocotools in /environment/miniconda3/lib/python3.7/site-packages (from mmdet) (2.0.2)\n",
      "Requirement already satisfied: numpy in /environment/miniconda3/lib/python3.7/site-packages (from mmdet) (1.21.4)\n",
      "Requirement already satisfied: matplotlib in /environment/miniconda3/lib/python3.7/site-packages (from mmdet) (3.5.0)\n",
      "Requirement already satisfied: six in /environment/miniconda3/lib/python3.7/site-packages (from mmdet) (1.16.0)\n",
      "Requirement already satisfied: scipy>=1.0 in /environment/miniconda3/lib/python3.7/site-packages (from seaborn) (1.7.3)\n",
      "Requirement already satisfied: pandas>=0.23 in /environment/miniconda3/lib/python3.7/site-packages (from seaborn) (1.3.4)\n",
      "Requirement already satisfied: python-dateutil>=2.7 in /environment/miniconda3/lib/python3.7/site-packages (from matplotlib->mmdet) (2.8.2)\n",
      "Requirement already satisfied: pillow>=6.2.0 in /environment/miniconda3/lib/python3.7/site-packages (from matplotlib->mmdet) (8.4.0)\n",
      "Requirement already satisfied: fonttools>=4.22.0 in /environment/miniconda3/lib/python3.7/site-packages (from matplotlib->mmdet) (4.28.3)\n",
      "Requirement already satisfied: pyparsing>=2.2.1 in /environment/miniconda3/lib/python3.7/site-packages (from matplotlib->mmdet) (3.0.6)\n",
      "Requirement already satisfied: setuptools-scm>=4 in /environment/miniconda3/lib/python3.7/site-packages (from matplotlib->mmdet) (6.3.2)\n",
      "Requirement already satisfied: packaging>=20.0 in /environment/miniconda3/lib/python3.7/site-packages (from matplotlib->mmdet) (21.3)\n",
      "Requirement already satisfied: kiwisolver>=1.0.1 in /environment/miniconda3/lib/python3.7/site-packages (from matplotlib->mmdet) (1.3.2)\n",
      "Requirement already satisfied: cycler>=0.10 in /environment/miniconda3/lib/python3.7/site-packages (from matplotlib->mmdet) (0.11.0)\n",
      "Requirement already satisfied: pytz>=2017.3 in /environment/miniconda3/lib/python3.7/site-packages (from pandas>=0.23->seaborn) (2021.3)\n",
      "Requirement already satisfied: setuptools in /environment/miniconda3/lib/python3.7/site-packages (from setuptools-scm>=4->matplotlib->mmdet) (52.0.0.post20210125)\n",
      "Requirement already satisfied: tomli>=1.0.0 in /environment/miniconda3/lib/python3.7/site-packages (from setuptools-scm>=4->matplotlib->mmdet) (1.2.2)\n",
      "Requirement already satisfied: ipython>=4.0.0 in /environment/miniconda3/lib/python3.7/site-packages (from ipywidgets) (7.30.1)\n",
      "Requirement already satisfied: widgetsnbextension~=3.5.0 in /environment/miniconda3/lib/python3.7/site-packages (from ipywidgets) (3.5.2)\n",
      "Requirement already satisfied: ipykernel>=4.5.1 in /environment/miniconda3/lib/python3.7/site-packages (from ipywidgets) (6.6.0)\n",
      "Requirement already satisfied: nbformat>=4.2.0 in /environment/miniconda3/lib/python3.7/site-packages (from ipywidgets) (5.1.3)\n",
      "Requirement already satisfied: ipython-genutils~=0.2.0 in /environment/miniconda3/lib/python3.7/site-packages (from ipywidgets) (0.2.0)\n",
      "Requirement already satisfied: jupyterlab-widgets>=1.0.0 in /environment/miniconda3/lib/python3.7/site-packages (from ipywidgets) (1.0.2)\n",
      "Requirement already satisfied: traitlets>=4.3.1 in /environment/miniconda3/lib/python3.7/site-packages (from ipywidgets) (5.1.1)\n",
      "Requirement already satisfied: tornado<7.0,>=4.2 in /environment/miniconda3/lib/python3.7/site-packages (from ipykernel>=4.5.1->ipywidgets) (6.1)\n",
      "Requirement already satisfied: argcomplete>=1.12.3 in /environment/miniconda3/lib/python3.7/site-packages (from ipykernel>=4.5.1->ipywidgets) (1.12.3)\n",
      "Requirement already satisfied: importlib-metadata<5 in /environment/miniconda3/lib/python3.7/site-packages (from ipykernel>=4.5.1->ipywidgets) (4.8.2)\n",
      "Requirement already satisfied: debugpy<2.0,>=1.0.0 in /environment/miniconda3/lib/python3.7/site-packages (from ipykernel>=4.5.1->ipywidgets) (1.5.1)\n",
      "Requirement already satisfied: jupyter-client<8.0 in /environment/miniconda3/lib/python3.7/site-packages (from ipykernel>=4.5.1->ipywidgets) (7.1.0)\n",
      "Requirement already satisfied: matplotlib-inline<0.2.0,>=0.1.0 in /environment/miniconda3/lib/python3.7/site-packages (from ipykernel>=4.5.1->ipywidgets) (0.1.3)\n",
      "Requirement already satisfied: zipp>=0.5 in /environment/miniconda3/lib/python3.7/site-packages (from importlib-metadata<5->ipykernel>=4.5.1->ipywidgets) (3.6.0)\n",
      "Requirement already satisfied: typing-extensions>=3.6.4 in /environment/miniconda3/lib/python3.7/site-packages (from importlib-metadata<5->ipykernel>=4.5.1->ipywidgets) (4.0.1)\n",
      "Requirement already satisfied: pexpect>4.3 in /environment/miniconda3/lib/python3.7/site-packages (from ipython>=4.0.0->ipywidgets) (4.8.0)\n",
      "Requirement already satisfied: jedi>=0.16 in /environment/miniconda3/lib/python3.7/site-packages (from ipython>=4.0.0->ipywidgets) (0.17.0)\n",
      "Requirement already satisfied: decorator in /environment/miniconda3/lib/python3.7/site-packages (from ipython>=4.0.0->ipywidgets) (4.4.2)\n",
      "Requirement already satisfied: pickleshare in /environment/miniconda3/lib/python3.7/site-packages (from ipython>=4.0.0->ipywidgets) (0.7.5)\n",
      "Requirement already satisfied: pygments in /environment/miniconda3/lib/python3.7/site-packages (from ipython>=4.0.0->ipywidgets) (2.10.0)\n",
      "Requirement already satisfied: backcall in /environment/miniconda3/lib/python3.7/site-packages (from ipython>=4.0.0->ipywidgets) (0.2.0)\n",
      "Requirement already satisfied: prompt-toolkit!=3.0.0,!=3.0.1,<3.1.0,>=2.0.0 in /environment/miniconda3/lib/python3.7/site-packages (from ipython>=4.0.0->ipywidgets) (3.0.23)\n",
      "Requirement already satisfied: parso>=0.7.0 in /environment/miniconda3/lib/python3.7/site-packages (from jedi>=0.16->ipython>=4.0.0->ipywidgets) (0.8.3)\n",
      "Requirement already satisfied: entrypoints in /environment/miniconda3/lib/python3.7/site-packages (from jupyter-client<8.0->ipykernel>=4.5.1->ipywidgets) (0.3)\n",
      "Requirement already satisfied: pyzmq>=13 in /environment/miniconda3/lib/python3.7/site-packages (from jupyter-client<8.0->ipykernel>=4.5.1->ipywidgets) (22.3.0)\n",
      "Requirement already satisfied: jupyter-core>=4.6.0 in /environment/miniconda3/lib/python3.7/site-packages (from jupyter-client<8.0->ipykernel>=4.5.1->ipywidgets) (4.9.1)\n",
      "Requirement already satisfied: nest-asyncio>=1.5 in /environment/miniconda3/lib/python3.7/site-packages (from jupyter-client<8.0->ipykernel>=4.5.1->ipywidgets) (1.5.4)\n",
      "Requirement already satisfied: jsonschema!=2.5.0,>=2.4 in /environment/miniconda3/lib/python3.7/site-packages (from nbformat>=4.2.0->ipywidgets) (4.2.1)\n",
      "Requirement already satisfied: attrs>=17.4.0 in /environment/miniconda3/lib/python3.7/site-packages (from jsonschema!=2.5.0,>=2.4->nbformat>=4.2.0->ipywidgets) (21.2.0)\n",
      "Requirement already satisfied: importlib-resources>=1.4.0 in /environment/miniconda3/lib/python3.7/site-packages (from jsonschema!=2.5.0,>=2.4->nbformat>=4.2.0->ipywidgets) (5.4.0)\n",
      "Requirement already satisfied: pyrsistent!=0.17.0,!=0.17.1,!=0.17.2,>=0.14.0 in /environment/miniconda3/lib/python3.7/site-packages (from jsonschema!=2.5.0,>=2.4->nbformat>=4.2.0->ipywidgets) (0.18.0)\n",
      "Requirement already satisfied: ptyprocess>=0.5 in /environment/miniconda3/lib/python3.7/site-packages (from pexpect>4.3->ipython>=4.0.0->ipywidgets) (0.7.0)\n",
      "Requirement already satisfied: wcwidth in /environment/miniconda3/lib/python3.7/site-packages (from prompt-toolkit!=3.0.0,!=3.0.1,<3.1.0,>=2.0.0->ipython>=4.0.0->ipywidgets) (0.2.5)\n",
      "Requirement already satisfied: notebook>=4.4.1 in /environment/miniconda3/lib/python3.7/site-packages (from widgetsnbextension~=3.5.0->ipywidgets) (6.4.6)\n",
      "Requirement already satisfied: Send2Trash>=1.8.0 in /environment/miniconda3/lib/python3.7/site-packages (from notebook>=4.4.1->widgetsnbextension~=3.5.0->ipywidgets) (1.8.0)\n",
      "Requirement already satisfied: argon2-cffi in /environment/miniconda3/lib/python3.7/site-packages (from notebook>=4.4.1->widgetsnbextension~=3.5.0->ipywidgets) (21.2.0)\n",
      "Requirement already satisfied: prometheus-client in /environment/miniconda3/lib/python3.7/site-packages (from notebook>=4.4.1->widgetsnbextension~=3.5.0->ipywidgets) (0.12.0)\n",
      "Requirement already satisfied: nbconvert in /environment/miniconda3/lib/python3.7/site-packages (from notebook>=4.4.1->widgetsnbextension~=3.5.0->ipywidgets) (6.3.0)\n",
      "Requirement already satisfied: jinja2 in /environment/miniconda3/lib/python3.7/site-packages (from notebook>=4.4.1->widgetsnbextension~=3.5.0->ipywidgets) (3.0.3)\n",
      "Requirement already satisfied: terminado>=0.8.3 in /environment/miniconda3/lib/python3.7/site-packages (from notebook>=4.4.1->widgetsnbextension~=3.5.0->ipywidgets) (0.12.1)\n",
      "Requirement already satisfied: argon2-cffi-bindings in /environment/miniconda3/lib/python3.7/site-packages (from argon2-cffi->notebook>=4.4.1->widgetsnbextension~=3.5.0->ipywidgets) (21.2.0)\n",
      "Requirement already satisfied: cffi>=1.0.1 in /environment/miniconda3/lib/python3.7/site-packages (from argon2-cffi-bindings->argon2-cffi->notebook>=4.4.1->widgetsnbextension~=3.5.0->ipywidgets) (1.14.6)\n",
      "Requirement already satisfied: pycparser in /environment/miniconda3/lib/python3.7/site-packages (from cffi>=1.0.1->argon2-cffi-bindings->argon2-cffi->notebook>=4.4.1->widgetsnbextension~=3.5.0->ipywidgets) (2.20)\n",
      "Requirement already satisfied: MarkupSafe>=2.0 in /environment/miniconda3/lib/python3.7/site-packages (from jinja2->notebook>=4.4.1->widgetsnbextension~=3.5.0->ipywidgets) (2.0.1)\n",
      "Requirement already satisfied: defusedxml in /environment/miniconda3/lib/python3.7/site-packages (from nbconvert->notebook>=4.4.1->widgetsnbextension~=3.5.0->ipywidgets) (0.7.1)\n",
      "Requirement already satisfied: jupyterlab-pygments in /environment/miniconda3/lib/python3.7/site-packages (from nbconvert->notebook>=4.4.1->widgetsnbextension~=3.5.0->ipywidgets) (0.1.2)\n",
      "Requirement already satisfied: mistune<2,>=0.8.1 in /environment/miniconda3/lib/python3.7/site-packages (from nbconvert->notebook>=4.4.1->widgetsnbextension~=3.5.0->ipywidgets) (0.8.4)\n",
      "Requirement already satisfied: testpath in /environment/miniconda3/lib/python3.7/site-packages (from nbconvert->notebook>=4.4.1->widgetsnbextension~=3.5.0->ipywidgets) (0.5.0)\n",
      "Requirement already satisfied: bleach in /environment/miniconda3/lib/python3.7/site-packages (from nbconvert->notebook>=4.4.1->widgetsnbextension~=3.5.0->ipywidgets) (4.1.0)\n",
      "Requirement already satisfied: pandocfilters>=1.4.1 in /environment/miniconda3/lib/python3.7/site-packages (from nbconvert->notebook>=4.4.1->widgetsnbextension~=3.5.0->ipywidgets) (1.5.0)\n",
      "Requirement already satisfied: nbclient<0.6.0,>=0.5.0 in /environment/miniconda3/lib/python3.7/site-packages (from nbconvert->notebook>=4.4.1->widgetsnbextension~=3.5.0->ipywidgets) (0.5.9)\n",
      "Requirement already satisfied: webencodings in /environment/miniconda3/lib/python3.7/site-packages (from bleach->nbconvert->notebook>=4.4.1->widgetsnbextension~=3.5.0->ipywidgets) (0.5.1)\n",
      "Requirement already satisfied: cython>=0.27.3 in /environment/miniconda3/lib/python3.7/site-packages (from pycocotools->mmdet) (0.29.28)\n"
     ]
    }
   ],
   "source": [
    "!pip install mmdet seaborn ipywidgets tqdm imageio-ffmpeg ninja -i https://pypi.tuna.tsinghua.edu.cn/simple"
   ]
  },
  {
   "cell_type": "markdown",
   "id": "0defb2f8-d5ab-4ee4-a66f-85cc17c221de",
   "metadata": {
    "tags": []
   },
   "source": [
    "## 下载 MMTracking"
   ]
  },
  {
   "cell_type": "code",
   "execution_count": 4,
   "id": "89026868-58b1-4755-aca3-ded98451e906",
   "metadata": {},
   "outputs": [],
   "source": [
    "# 删掉原有的 mmtracking 文件夹（如有）\n",
    "!rm -rf mmtracking"
   ]
  },
  {
   "cell_type": "code",
   "execution_count": 5,
   "id": "09c51fee-d040-46cf-8d86-c0248ab7fe84",
   "metadata": {},
   "outputs": [
    {
     "name": "stdout",
     "output_type": "stream",
     "text": [
      "Cloning into 'mmtracking'...\n",
      "remote: Enumerating objects: 4260, done.\u001b[K\n",
      "remote: Counting objects: 100% (836/836), done.\u001b[K\n",
      "remote: Compressing objects: 100% (289/289), done.\u001b[K\n",
      "remote: Total 4260 (delta 623), reused 603 (delta 546), pack-reused 3424\u001b[K\n",
      "Receiving objects: 100% (4260/4260), 1.73 MiB | 7.31 MiB/s, done.\n",
      "Resolving deltas: 100% (2519/2519), done.\n"
     ]
    }
   ],
   "source": [
    "# 从 github 上下载最新的 mmtracking 源代码\n",
    "!git clone https://github.com/open-mmlab/mmtracking.git"
   ]
  },
  {
   "cell_type": "markdown",
   "id": "b847e71f-8d93-4204-ac23-0ae97ae2094d",
   "metadata": {},
   "source": [
    "## 安装 MMTracking 依赖包（大约需要2分钟）"
   ]
  },
  {
   "cell_type": "code",
   "execution_count": 6,
   "id": "21f59cb9-bcd6-4d00-93f2-e533c406d484",
   "metadata": {},
   "outputs": [],
   "source": [
    "# 进入 mmtracking 主目录\n",
    "import os\n",
    "os.chdir('mmtracking')"
   ]
  },
  {
   "cell_type": "code",
   "execution_count": 7,
   "id": "1703a0a7-453e-4414-a14e-c452a8c64fba",
   "metadata": {},
   "outputs": [
    {
     "name": "stdout",
     "output_type": "stream",
     "text": [
      "Looking in indexes: https://pypi.tuna.tsinghua.edu.cn/simple\n",
      "Requirement already satisfied: cython in /environment/miniconda3/lib/python3.7/site-packages (from -r requirements/build.txt (line 1)) (0.29.28)\n",
      "Requirement already satisfied: numba==0.53.0 in /environment/miniconda3/lib/python3.7/site-packages (from -r requirements/build.txt (line 2)) (0.53.0)\n",
      "Requirement already satisfied: numpy in /environment/miniconda3/lib/python3.7/site-packages (from -r requirements/build.txt (line 3)) (1.21.4)\n",
      "Requirement already satisfied: setuptools in /environment/miniconda3/lib/python3.7/site-packages (from numba==0.53.0->-r requirements/build.txt (line 2)) (52.0.0.post20210125)\n",
      "Requirement already satisfied: llvmlite<0.37,>=0.36.0rc1 in /environment/miniconda3/lib/python3.7/site-packages (from numba==0.53.0->-r requirements/build.txt (line 2)) (0.36.0)\n",
      "Using pip 21.1.3 from /environment/miniconda3/lib/python3.7/site-packages/pip (python 3.7)\n",
      "Non-user install because site-packages writeable\n",
      "Created temporary directory: /tmp/pip-ephem-wheel-cache-_subyy0w\n",
      "Created temporary directory: /tmp/pip-req-tracker-c5nuzvum\n",
      "Initialized build tracking at /tmp/pip-req-tracker-c5nuzvum\n",
      "Created build tracker: /tmp/pip-req-tracker-c5nuzvum\n",
      "Entered build tracker: /tmp/pip-req-tracker-c5nuzvum\n",
      "Created temporary directory: /tmp/pip-install-jq894qo0\n",
      "Looking in indexes: https://pypi.tuna.tsinghua.edu.cn/simple\n",
      "Obtaining file:///home/featurize/work/MMTracking%E6%95%99%E7%A8%8B/0425/mmtracking\n",
      "  Added file:///home/featurize/work/MMTracking%E6%95%99%E7%A8%8B/0425/mmtracking to build tracker '/tmp/pip-req-tracker-c5nuzvum'\n",
      "    Running setup.py (path:/home/featurize/work/MMTracking教程/0425/mmtracking/setup.py) egg_info for package from file:///home/featurize/work/MMTracking%E6%95%99%E7%A8%8B/0425/mmtracking\n",
      "    Created temporary directory: /tmp/pip-pip-egg-info-bdg8trpw\n",
      "    Running command python setup.py egg_info\n",
      "    running egg_info\n",
      "    creating /tmp/pip-pip-egg-info-bdg8trpw/mmtrack.egg-info\n",
      "    writing /tmp/pip-pip-egg-info-bdg8trpw/mmtrack.egg-info/PKG-INFO\n",
      "    writing dependency_links to /tmp/pip-pip-egg-info-bdg8trpw/mmtrack.egg-info/dependency_links.txt\n",
      "    writing requirements to /tmp/pip-pip-egg-info-bdg8trpw/mmtrack.egg-info/requires.txt\n",
      "    writing top-level names to /tmp/pip-pip-egg-info-bdg8trpw/mmtrack.egg-info/top_level.txt\n",
      "    writing manifest file '/tmp/pip-pip-egg-info-bdg8trpw/mmtrack.egg-info/SOURCES.txt'\n",
      "    reading manifest template 'MANIFEST.in'\n",
      "    warning: no files found matching 'mmtrack/.mim/model-index.yml'\n",
      "    warning: no files found matching '*.py' under directory 'mmtrack/.mim/configs'\n",
      "    warning: no files found matching '*.yml' under directory 'mmtrack/.mim/configs'\n",
      "    warning: no files found matching '*.sh' under directory 'mmtrack/.mim/tools'\n",
      "    warning: no files found matching '*.py' under directory 'mmtrack/.mim/tools'\n",
      "    writing manifest file '/tmp/pip-pip-egg-info-bdg8trpw/mmtrack.egg-info/SOURCES.txt'\n",
      "  Source in /home/featurize/work/MMTracking教程/0425/mmtracking has version 0.12.0, which satisfies requirement mmtrack==0.12.0 from file:///home/featurize/work/MMTracking%E6%95%99%E7%A8%8B/0425/mmtracking\n",
      "  Removed mmtrack==0.12.0 from file:///home/featurize/work/MMTracking%E6%95%99%E7%A8%8B/0425/mmtracking from build tracker '/tmp/pip-req-tracker-c5nuzvum'\n",
      "1 location(s) to search for versions of attributee:\n",
      "* https://pypi.tuna.tsinghua.edu.cn/simple/attributee/\n",
      "Fetching project page and analyzing links: https://pypi.tuna.tsinghua.edu.cn/simple/attributee/\n",
      "Getting page https://pypi.tuna.tsinghua.edu.cn/simple/attributee/\n",
      "Found index url https://pypi.tuna.tsinghua.edu.cn/simple\n",
      "Looking up \"https://pypi.tuna.tsinghua.edu.cn/simple/attributee/\" in the cache\n",
      "Request header has \"max_age\" as 0, cache bypassed\n",
      "Starting new HTTPS connection (1): pypi.tuna.tsinghua.edu.cn:443\n",
      "https://pypi.tuna.tsinghua.edu.cn:443 \"GET /simple/attributee/ HTTP/1.1\" 304 0\n",
      "  Found link https://pypi.tuna.tsinghua.edu.cn/packages/e1/41/027dab4f27f972d903c41587016b57c55ac018224e152012ac37e964a044/attributee-0.1.0.tar.gz#sha256=c339ff232b47b2128bb27435e0f33bc74affc4398fbd2a1e7ed72b3e54df4a31 (from https://pypi.tuna.tsinghua.edu.cn/simple/attributee/) (requires-python:>=3.5), version: 0.1.0\n",
      "  Skipping link: unsupported archive format: .egg: https://pypi.tuna.tsinghua.edu.cn/packages/7c/c9/52ba4a4f9f433146c2a569cf7e8090fa7d096e06c5c69d8bec084b8774f5/attributee-0.1.1-py3.8.egg#sha256=464a253066bce57241b418bd816867d5768550a2d35cf04c124b6e592abeb16c (from https://pypi.tuna.tsinghua.edu.cn/simple/attributee/) (requires-python:>=3.5)\n",
      "  Found link https://pypi.tuna.tsinghua.edu.cn/packages/dc/31/1387d9f506e59f60defdbe23d85812e396711a59f956c33b927f71a58b8f/attributee-0.1.1.tar.gz#sha256=3a6e2a10c69e4db4e9058b74e7bbb50480e1fce936fac3cfb929bcde16d65b77 (from https://pypi.tuna.tsinghua.edu.cn/simple/attributee/) (requires-python:>=3.5), version: 0.1.1\n",
      "  Found link https://pypi.tuna.tsinghua.edu.cn/packages/b9/e9/57079e099d50e74310801152a49648ca188f97b6e8460087c3d9cc8d40eb/attributee-0.1.3.tar.gz#sha256=067b706c1ff3c449eeedebee5b960cd2895e8aa2684a03b5427419aa859bba71 (from https://pypi.tuna.tsinghua.edu.cn/simple/attributee/) (requires-python:>=3.5), version: 0.1.3\n",
      "  Found link https://pypi.tuna.tsinghua.edu.cn/packages/98/8e/4dae44b19e87268af37301e865ad8d39887a0e176d908697e8d01019b5eb/attributee-0.1.4.tar.gz#sha256=7848fc213446177b3587bc1b48d29a5bc824a64011a61071ef7e3b323bf8809d (from https://pypi.tuna.tsinghua.edu.cn/simple/attributee/) (requires-python:>=3.5), version: 0.1.4\n",
      "  Found link https://pypi.tuna.tsinghua.edu.cn/packages/b6/c2/50123286524e8dfee4b5502e349bae96c42185592479c9dc31c40f9f8259/attributee-0.1.5.tar.gz#sha256=a9c14efe6f540e70d226a44ecea10bc606521c4f81d4e8142170ed5c2b81feb9 (from https://pypi.tuna.tsinghua.edu.cn/simple/attributee/) (requires-python:>=3.5), version: 0.1.5\n",
      "  Found link https://pypi.tuna.tsinghua.edu.cn/packages/58/72/fb13fce1c0603a4ae64f063203a4eaafc05c7ff29f675c5813f7486e6f68/attributee-0.1.6.tar.gz#sha256=462a8d677d8baddea5c03bbc92e88b4318e04d05b10fc2e254f62ccbc4bd4faa (from https://pypi.tuna.tsinghua.edu.cn/simple/attributee/) (requires-python:>=3.5), version: 0.1.6\n",
      "  Found link https://pypi.tuna.tsinghua.edu.cn/packages/15/40/13b697d3b7048d36ed8dabcf6c2719ef77d7df3709a8baab736f9d009e27/attributee-0.1.7.tar.gz#sha256=a853a3a6fdeb19d7927201d60e0e9c80d67b1ccb4087a4eabec1bb476cec8666 (from https://pypi.tuna.tsinghua.edu.cn/simple/attributee/) (requires-python:>=3.5), version: 0.1.7\n",
      "Skipping link: not a file: https://pypi.tuna.tsinghua.edu.cn/simple/attributee/\n",
      "Given no hashes to check 1 links for project 'attributee': discarding no candidates\n",
      "Using cached wheel link: file:///home/featurize/.cache/pip/wheels/f2/fb/c3/8cde21929efecfc7bea5ee163a51f20ff008b13332392011b3/attributee-0.1.5-py3-none-any.whl\n",
      "Collecting attributee==0.1.5\n",
      "  Using cached attributee-0.1.5-py3-none-any.whl\n",
      "  Added attributee==0.1.5 from file:///home/featurize/.cache/pip/wheels/f2/fb/c3/8cde21929efecfc7bea5ee163a51f20ff008b13332392011b3/attributee-0.1.5-py3-none-any.whl (from mmtrack==0.12.0) to build tracker '/tmp/pip-req-tracker-c5nuzvum'\n",
      "  Removed attributee==0.1.5 from file:///home/featurize/.cache/pip/wheels/f2/fb/c3/8cde21929efecfc7bea5ee163a51f20ff008b13332392011b3/attributee-0.1.5-py3-none-any.whl (from mmtrack==0.12.0) from build tracker '/tmp/pip-req-tracker-c5nuzvum'\n",
      "Requirement already satisfied: dotty_dict in /environment/miniconda3/lib/python3.7/site-packages (from mmtrack==0.12.0) (1.3.0)\n",
      "Requirement already satisfied: lap in /environment/miniconda3/lib/python3.7/site-packages (from mmtrack==0.12.0) (0.4.0)\n",
      "Requirement already satisfied: matplotlib in /environment/miniconda3/lib/python3.7/site-packages (from mmtrack==0.12.0) (3.5.0)\n",
      "Requirement already satisfied: mmcls>=0.16.0 in /environment/miniconda3/lib/python3.7/site-packages (from mmtrack==0.12.0) (0.22.1)\n",
      "Requirement already satisfied: motmetrics in /environment/miniconda3/lib/python3.7/site-packages (from mmtrack==0.12.0) (1.2.5)\n",
      "Requirement already satisfied: opencv-python in /environment/miniconda3/lib/python3.7/site-packages (from mmtrack==0.12.0) (4.5.4.60)\n",
      "Requirement already satisfied: packaging in /environment/miniconda3/lib/python3.7/site-packages (from mmtrack==0.12.0) (21.3)\n",
      "Requirement already satisfied: pandas<=1.3.5 in /environment/miniconda3/lib/python3.7/site-packages (from mmtrack==0.12.0) (1.3.4)\n",
      "Requirement already satisfied: pycocotools<=2.0.2 in /environment/miniconda3/lib/python3.7/site-packages (from mmtrack==0.12.0) (2.0.2)\n",
      "Requirement already satisfied: scipy<=1.7.3 in /environment/miniconda3/lib/python3.7/site-packages (from mmtrack==0.12.0) (1.7.3)\n",
      "Requirement already satisfied: seaborn in /environment/miniconda3/lib/python3.7/site-packages (from mmtrack==0.12.0) (0.11.2)\n",
      "Requirement already satisfied: terminaltables in /environment/miniconda3/lib/python3.7/site-packages (from mmtrack==0.12.0) (3.1.10)\n",
      "Requirement already satisfied: tqdm in /environment/miniconda3/lib/python3.7/site-packages (from mmtrack==0.12.0) (4.61.2)\n",
      "Requirement already satisfied: numpy in /environment/miniconda3/lib/python3.7/site-packages (from mmcls>=0.16.0->mmtrack==0.12.0) (1.21.4)\n",
      "Requirement already satisfied: python-dateutil>=2.7.3 in /environment/miniconda3/lib/python3.7/site-packages (from pandas<=1.3.5->mmtrack==0.12.0) (2.8.2)\n",
      "Requirement already satisfied: pytz>=2017.3 in /environment/miniconda3/lib/python3.7/site-packages (from pandas<=1.3.5->mmtrack==0.12.0) (2021.3)\n",
      "Requirement already satisfied: setuptools>=18.0 in /environment/miniconda3/lib/python3.7/site-packages (from pycocotools<=2.0.2->mmtrack==0.12.0) (52.0.0.post20210125)\n",
      "Requirement already satisfied: cython>=0.27.3 in /environment/miniconda3/lib/python3.7/site-packages (from pycocotools<=2.0.2->mmtrack==0.12.0) (0.29.28)\n",
      "Requirement already satisfied: kiwisolver>=1.0.1 in /environment/miniconda3/lib/python3.7/site-packages (from matplotlib->mmtrack==0.12.0) (1.3.2)\n",
      "Requirement already satisfied: setuptools-scm>=4 in /environment/miniconda3/lib/python3.7/site-packages (from matplotlib->mmtrack==0.12.0) (6.3.2)\n",
      "Requirement already satisfied: pillow>=6.2.0 in /environment/miniconda3/lib/python3.7/site-packages (from matplotlib->mmtrack==0.12.0) (8.4.0)\n",
      "Requirement already satisfied: cycler>=0.10 in /environment/miniconda3/lib/python3.7/site-packages (from matplotlib->mmtrack==0.12.0) (0.11.0)\n",
      "Requirement already satisfied: pyparsing>=2.2.1 in /environment/miniconda3/lib/python3.7/site-packages (from matplotlib->mmtrack==0.12.0) (3.0.6)\n",
      "Requirement already satisfied: fonttools>=4.22.0 in /environment/miniconda3/lib/python3.7/site-packages (from matplotlib->mmtrack==0.12.0) (4.28.3)\n",
      "Requirement already satisfied: six>=1.5 in /environment/miniconda3/lib/python3.7/site-packages (from python-dateutil>=2.7.3->pandas<=1.3.5->mmtrack==0.12.0) (1.16.0)\n",
      "Requirement already satisfied: tomli>=1.0.0 in /environment/miniconda3/lib/python3.7/site-packages (from setuptools-scm>=4->matplotlib->mmtrack==0.12.0) (1.2.2)\n",
      "Requirement already satisfied: xmltodict>=0.12.0 in /environment/miniconda3/lib/python3.7/site-packages (from motmetrics->mmtrack==0.12.0) (0.12.0)\n",
      "Created temporary directory: /tmp/pip-unpack-4tlaseiy\n",
      "Installing collected packages: attributee, mmtrack\n",
      "  Attempting uninstall: attributee\n",
      "    Found existing installation: attributee 0.1.7\n",
      "    Uninstalling attributee-0.1.7:\n",
      "      Created temporary directory: /environment/miniconda3/lib/python3.7/site-packages/~ttributee-0.1.7.dist-info\n",
      "      Removing file or directory /environment/miniconda3/lib/python3.7/site-packages/attributee-0.1.7.dist-info/\n",
      "      Created temporary directory: /environment/miniconda3/lib/python3.7/site-packages/~ttributee\n",
      "      Removing file or directory /environment/miniconda3/lib/python3.7/site-packages/attributee/\n",
      "      Successfully uninstalled attributee-0.1.7\n",
      "\n",
      "  Attempting uninstall: mmtrack\n",
      "    Found existing installation: mmtrack 0.12.0\n",
      "    Uninstalling mmtrack-0.12.0:\n",
      "      Created temporary directory: /tmp/pip-uninstall-fjw6z6qt\n",
      "      Removing file or directory /environment/miniconda3/lib/python3.7/site-packages/mmtrack.egg-link\n",
      "      Removing pth entries from /environment/miniconda3/lib/python3.7/site-packages/easy-install.pth:\n",
      "      Removing entry: /home/featurize/work/MMTracking教程/0421/mmtracking\n",
      "      Successfully uninstalled mmtrack-0.12.0\n",
      "  Running setup.py develop for mmtrack\n",
      "    Running command /environment/miniconda3/bin/python -c 'import io, os, sys, setuptools, tokenize; sys.argv[0] = '\"'\"'/home/featurize/work/MMTracking教程/0425/mmtracking/setup.py'\"'\"'; __file__='\"'\"'/home/featurize/work/MMTracking教程/0425/mmtracking/setup.py'\"'\"';f = getattr(tokenize, '\"'\"'open'\"'\"', open)(__file__) if os.path.exists(__file__) else io.StringIO('\"'\"'from setuptools import setup; setup()'\"'\"');code = f.read().replace('\"'\"'\\r\\n'\"'\"', '\"'\"'\\n'\"'\"');f.close();exec(compile(code, __file__, '\"'\"'exec'\"'\"'))' develop --no-deps\n",
      "    running develop\n",
      "    running egg_info\n",
      "    creating mmtrack.egg-info\n",
      "    writing mmtrack.egg-info/PKG-INFO\n",
      "    writing dependency_links to mmtrack.egg-info/dependency_links.txt\n",
      "    writing requirements to mmtrack.egg-info/requires.txt\n",
      "    writing top-level names to mmtrack.egg-info/top_level.txt\n",
      "    writing manifest file 'mmtrack.egg-info/SOURCES.txt'\n",
      "    reading manifest template 'MANIFEST.in'\n",
      "    writing manifest file 'mmtrack.egg-info/SOURCES.txt'\n",
      "    running build_ext\n",
      "    Creating /environment/miniconda3/lib/python3.7/site-packages/mmtrack.egg-link (link to .)\n",
      "    Adding mmtrack 0.12.0 to easy-install.pth file\n",
      "\n",
      "    Installed /home/featurize/work/MMTracking教程/0425/mmtracking\n",
      "\u001b[31mERROR: pip's dependency resolver does not currently take into account all the packages that are installed. This behaviour is the source of the following dependency conflicts.\n",
      "vot-toolkit 0.5.3 requires attributee>=0.1.7, but you have attributee 0.1.5 which is incompatible.\u001b[0m\n",
      "Successfully installed attributee-0.1.5 mmtrack-0.12.0\n",
      "Removed build tracker: '/tmp/pip-req-tracker-c5nuzvum'\n"
     ]
    }
   ],
   "source": [
    "!pip install -r requirements/build.txt\n",
    "!pip install -v -e ."
   ]
  },
  {
   "cell_type": "markdown",
   "id": "8e164faf-8e95-4b8e-aede-4209385579db",
   "metadata": {},
   "source": [
    "## 安装额外的依赖包（选择性安装）"
   ]
  },
  {
   "cell_type": "code",
   "execution_count": 8,
   "id": "ba764887-c2a0-49fd-ba6c-cacb7639d51f",
   "metadata": {},
   "outputs": [
    {
     "name": "stdout",
     "output_type": "stream",
     "text": [
      "Looking in indexes: https://pypi.tuna.tsinghua.edu.cn/simple\n",
      "Collecting git+https://github.com/JonathonLuiten/TrackEval.git\n",
      "  Cloning https://github.com/JonathonLuiten/TrackEval.git to /tmp/pip-req-build-8br_uwz4\n",
      "  Running command git clone -q https://github.com/JonathonLuiten/TrackEval.git /tmp/pip-req-build-8br_uwz4\n",
      "  Installing build dependencies ... \u001b[?25ldone\n",
      "\u001b[?25h  Getting requirements to build wheel ... \u001b[?25ldone\n",
      "\u001b[?25h    Preparing wheel metadata ... \u001b[?25ldone\n",
      "\u001b[?25hRequirement already satisfied: scipy in /environment/miniconda3/lib/python3.7/site-packages (from trackeval==1.0.dev1) (1.7.3)\n",
      "Requirement already satisfied: numpy in /environment/miniconda3/lib/python3.7/site-packages (from trackeval==1.0.dev1) (1.21.4)\n",
      "Looking in indexes: https://pypi.tuna.tsinghua.edu.cn/simple\n",
      "Collecting git+https://github.com/votchallenge/toolkit.git\n",
      "  Cloning https://github.com/votchallenge/toolkit.git to /tmp/pip-req-build-_t_m_aq0\n",
      "  Running command git clone -q https://github.com/votchallenge/toolkit.git /tmp/pip-req-build-_t_m_aq0\n",
      "Requirement already satisfied: vot-trax>=3.0.2 in /environment/miniconda3/lib/python3.7/site-packages (from vot-toolkit==0.5.3) (3.0.3)\n",
      "Requirement already satisfied: tqdm>=4.37 in /environment/miniconda3/lib/python3.7/site-packages (from vot-toolkit==0.5.3) (4.61.2)\n",
      "Requirement already satisfied: numpy>=1.16 in /environment/miniconda3/lib/python3.7/site-packages (from vot-toolkit==0.5.3) (1.21.4)\n",
      "Requirement already satisfied: opencv-python>=4.0 in /environment/miniconda3/lib/python3.7/site-packages (from vot-toolkit==0.5.3) (4.5.4.60)\n",
      "Requirement already satisfied: six in /environment/miniconda3/lib/python3.7/site-packages (from vot-toolkit==0.5.3) (1.16.0)\n",
      "Requirement already satisfied: pylatex>=1.3 in /environment/miniconda3/lib/python3.7/site-packages (from vot-toolkit==0.5.3) (1.4.1)\n",
      "Requirement already satisfied: jsonschema>=3.2 in /environment/miniconda3/lib/python3.7/site-packages (from vot-toolkit==0.5.3) (4.2.1)\n",
      "Requirement already satisfied: pyYAML>=5.3 in /environment/miniconda3/lib/python3.7/site-packages (from vot-toolkit==0.5.3) (6.0)\n",
      "Requirement already satisfied: matplotlib>=3.0 in /environment/miniconda3/lib/python3.7/site-packages (from vot-toolkit==0.5.3) (3.5.0)\n",
      "Requirement already satisfied: Pillow>=7.0 in /environment/miniconda3/lib/python3.7/site-packages (from vot-toolkit==0.5.3) (8.4.0)\n",
      "Requirement already satisfied: numba>=0.47 in /environment/miniconda3/lib/python3.7/site-packages (from vot-toolkit==0.5.3) (0.53.0)\n",
      "Requirement already satisfied: requests>=2.22 in /environment/miniconda3/lib/python3.7/site-packages (from vot-toolkit==0.5.3) (2.24.0)\n",
      "Requirement already satisfied: colorama>=0.4.3 in /environment/miniconda3/lib/python3.7/site-packages (from vot-toolkit==0.5.3) (0.4.4)\n",
      "Requirement already satisfied: packaging>=20 in /environment/miniconda3/lib/python3.7/site-packages (from vot-toolkit==0.5.3) (21.3)\n",
      "Requirement already satisfied: dominate>=2.5 in /environment/miniconda3/lib/python3.7/site-packages (from vot-toolkit==0.5.3) (2.6.0)\n",
      "Requirement already satisfied: cachetools>=4.1 in /environment/miniconda3/lib/python3.7/site-packages (from vot-toolkit==0.5.3) (4.2.4)\n",
      "Requirement already satisfied: bidict>=0.19 in /environment/miniconda3/lib/python3.7/site-packages (from vot-toolkit==0.5.3) (0.22.0)\n",
      "Requirement already satisfied: phx-class-registry>=3.0 in /environment/miniconda3/lib/python3.7/site-packages (from vot-toolkit==0.5.3) (3.0.5)\n",
      "Collecting attributee>=0.1.7\n",
      "  Using cached attributee-0.1.7-py3-none-any.whl\n",
      "Requirement already satisfied: attrs>=17.4.0 in /environment/miniconda3/lib/python3.7/site-packages (from jsonschema>=3.2->vot-toolkit==0.5.3) (21.2.0)\n",
      "Requirement already satisfied: pyrsistent!=0.17.0,!=0.17.1,!=0.17.2,>=0.14.0 in /environment/miniconda3/lib/python3.7/site-packages (from jsonschema>=3.2->vot-toolkit==0.5.3) (0.18.0)\n",
      "Requirement already satisfied: importlib-metadata in /environment/miniconda3/lib/python3.7/site-packages (from jsonschema>=3.2->vot-toolkit==0.5.3) (4.8.2)\n",
      "Requirement already satisfied: importlib-resources>=1.4.0 in /environment/miniconda3/lib/python3.7/site-packages (from jsonschema>=3.2->vot-toolkit==0.5.3) (5.4.0)\n",
      "Requirement already satisfied: zipp>=3.1.0 in /environment/miniconda3/lib/python3.7/site-packages (from importlib-resources>=1.4.0->jsonschema>=3.2->vot-toolkit==0.5.3) (3.6.0)\n",
      "Requirement already satisfied: kiwisolver>=1.0.1 in /environment/miniconda3/lib/python3.7/site-packages (from matplotlib>=3.0->vot-toolkit==0.5.3) (1.3.2)\n",
      "Requirement already satisfied: pyparsing>=2.2.1 in /environment/miniconda3/lib/python3.7/site-packages (from matplotlib>=3.0->vot-toolkit==0.5.3) (3.0.6)\n",
      "Requirement already satisfied: fonttools>=4.22.0 in /environment/miniconda3/lib/python3.7/site-packages (from matplotlib>=3.0->vot-toolkit==0.5.3) (4.28.3)\n",
      "Requirement already satisfied: python-dateutil>=2.7 in /environment/miniconda3/lib/python3.7/site-packages (from matplotlib>=3.0->vot-toolkit==0.5.3) (2.8.2)\n",
      "Requirement already satisfied: cycler>=0.10 in /environment/miniconda3/lib/python3.7/site-packages (from matplotlib>=3.0->vot-toolkit==0.5.3) (0.11.0)\n",
      "Requirement already satisfied: setuptools-scm>=4 in /environment/miniconda3/lib/python3.7/site-packages (from matplotlib>=3.0->vot-toolkit==0.5.3) (6.3.2)\n",
      "Requirement already satisfied: setuptools in /environment/miniconda3/lib/python3.7/site-packages (from numba>=0.47->vot-toolkit==0.5.3) (52.0.0.post20210125)\n",
      "Requirement already satisfied: llvmlite<0.37,>=0.36.0rc1 in /environment/miniconda3/lib/python3.7/site-packages (from numba>=0.47->vot-toolkit==0.5.3) (0.36.0)\n",
      "Requirement already satisfied: ordered-set in /environment/miniconda3/lib/python3.7/site-packages (from pylatex>=1.3->vot-toolkit==0.5.3) (4.1.0)\n",
      "Requirement already satisfied: idna<3,>=2.5 in /environment/miniconda3/lib/python3.7/site-packages (from requests>=2.22->vot-toolkit==0.5.3) (2.10)\n",
      "Requirement already satisfied: chardet<4,>=3.0.2 in /environment/miniconda3/lib/python3.7/site-packages (from requests>=2.22->vot-toolkit==0.5.3) (3.0.4)\n",
      "Requirement already satisfied: urllib3!=1.25.0,!=1.25.1,<1.26,>=1.21.1 in /environment/miniconda3/lib/python3.7/site-packages (from requests>=2.22->vot-toolkit==0.5.3) (1.25.11)\n",
      "Requirement already satisfied: certifi>=2017.4.17 in /environment/miniconda3/lib/python3.7/site-packages (from requests>=2.22->vot-toolkit==0.5.3) (2021.5.30)\n",
      "Requirement already satisfied: tomli>=1.0.0 in /environment/miniconda3/lib/python3.7/site-packages (from setuptools-scm>=4->matplotlib>=3.0->vot-toolkit==0.5.3) (1.2.2)\n",
      "Requirement already satisfied: typing-extensions>=3.6.4 in /environment/miniconda3/lib/python3.7/site-packages (from importlib-metadata->jsonschema>=3.2->vot-toolkit==0.5.3) (4.0.1)\n",
      "Installing collected packages: attributee\n",
      "  Attempting uninstall: attributee\n",
      "    Found existing installation: attributee 0.1.5\n",
      "    Uninstalling attributee-0.1.5:\n",
      "      Successfully uninstalled attributee-0.1.5\n",
      "\u001b[31mERROR: pip's dependency resolver does not currently take into account all the packages that are installed. This behaviour is the source of the following dependency conflicts.\n",
      "mmtrack 0.12.0 requires attributee==0.1.5, but you have attributee 0.1.7 which is incompatible.\u001b[0m\n",
      "Successfully installed attributee-0.1.7\n",
      "Looking in indexes: https://pypi.tuna.tsinghua.edu.cn/simple\n",
      "Collecting git+https://github.com/lvis-dataset/lvis-api.git\n",
      "  Cloning https://github.com/lvis-dataset/lvis-api.git to /tmp/pip-req-build-15zj8pvc\n",
      "  Running command git clone -q https://github.com/lvis-dataset/lvis-api.git /tmp/pip-req-build-15zj8pvc\n",
      "Requirement already satisfied: cycler>=0.10.0 in /environment/miniconda3/lib/python3.7/site-packages (from lvis==0.5.3) (0.11.0)\n",
      "Requirement already satisfied: Cython>=0.29.12 in /environment/miniconda3/lib/python3.7/site-packages (from lvis==0.5.3) (0.29.28)\n",
      "Requirement already satisfied: kiwisolver>=1.1.0 in /environment/miniconda3/lib/python3.7/site-packages (from lvis==0.5.3) (1.3.2)\n",
      "Requirement already satisfied: matplotlib>=3.1.1 in /environment/miniconda3/lib/python3.7/site-packages (from lvis==0.5.3) (3.5.0)\n",
      "Requirement already satisfied: numpy>=1.18.2 in /environment/miniconda3/lib/python3.7/site-packages (from lvis==0.5.3) (1.21.4)\n",
      "Requirement already satisfied: opencv-python>=4.1.0.25 in /environment/miniconda3/lib/python3.7/site-packages (from lvis==0.5.3) (4.5.4.60)\n",
      "Requirement already satisfied: pyparsing>=2.4.0 in /environment/miniconda3/lib/python3.7/site-packages (from lvis==0.5.3) (3.0.6)\n",
      "Requirement already satisfied: python-dateutil>=2.8.0 in /environment/miniconda3/lib/python3.7/site-packages (from lvis==0.5.3) (2.8.2)\n",
      "Requirement already satisfied: six>=1.12.0 in /environment/miniconda3/lib/python3.7/site-packages (from lvis==0.5.3) (1.16.0)\n",
      "Requirement already satisfied: pillow>=6.2.0 in /environment/miniconda3/lib/python3.7/site-packages (from matplotlib>=3.1.1->lvis==0.5.3) (8.4.0)\n",
      "Requirement already satisfied: packaging>=20.0 in /environment/miniconda3/lib/python3.7/site-packages (from matplotlib>=3.1.1->lvis==0.5.3) (21.3)\n",
      "Requirement already satisfied: setuptools-scm>=4 in /environment/miniconda3/lib/python3.7/site-packages (from matplotlib>=3.1.1->lvis==0.5.3) (6.3.2)\n",
      "Requirement already satisfied: fonttools>=4.22.0 in /environment/miniconda3/lib/python3.7/site-packages (from matplotlib>=3.1.1->lvis==0.5.3) (4.28.3)\n",
      "Requirement already satisfied: setuptools in /environment/miniconda3/lib/python3.7/site-packages (from setuptools-scm>=4->matplotlib>=3.1.1->lvis==0.5.3) (52.0.0.post20210125)\n",
      "Requirement already satisfied: tomli>=1.0.0 in /environment/miniconda3/lib/python3.7/site-packages (from setuptools-scm>=4->matplotlib>=3.1.1->lvis==0.5.3) (1.2.2)\n",
      "Looking in indexes: https://pypi.tuna.tsinghua.edu.cn/simple\n",
      "Collecting git+https://github.com/TAO-Dataset/tao.git\n",
      "  Cloning https://github.com/TAO-Dataset/tao.git to /tmp/pip-req-build-i_aj1ymc\n",
      "  Running command git clone -q https://github.com/TAO-Dataset/tao.git /tmp/pip-req-build-i_aj1ymc\n",
      "Collecting script_utils@ git+https://github.com/achalddave/python-script-utils.git@v0.0.2#egg=script_utils\n",
      "  Cloning https://github.com/achalddave/python-script-utils.git (to revision v0.0.2) to /tmp/pip-install-qs7j0wq8/script-utils_055905201bc143f2bd2532643e481ab3\n",
      "  Running command git clone -q https://github.com/achalddave/python-script-utils.git /tmp/pip-install-qs7j0wq8/script-utils_055905201bc143f2bd2532643e481ab3\n",
      "  Running command git checkout -q 26dcd3b0c3487f46d31b4997c824e43a1ec5c897\n",
      "  Running command git submodule update --init --recursive -q\n",
      "Requirement already satisfied: moviepy~=0.2 in /environment/miniconda3/lib/python3.7/site-packages (from tao==0.1.0) (0.2.3.5)\n",
      "Requirement already satisfied: scipy in /environment/miniconda3/lib/python3.7/site-packages (from tao==0.1.0) (1.7.3)\n",
      "Requirement already satisfied: natsort in /environment/miniconda3/lib/python3.7/site-packages (from tao==0.1.0) (8.1.0)\n",
      "Requirement already satisfied: tqdm in /environment/miniconda3/lib/python3.7/site-packages (from tao==0.1.0) (4.61.2)\n",
      "Requirement already satisfied: yacs in /environment/miniconda3/lib/python3.7/site-packages (from tao==0.1.0) (0.1.8)\n",
      "Requirement already satisfied: boto3 in /environment/miniconda3/lib/python3.7/site-packages (from tao==0.1.0) (1.21.46)\n",
      "Requirement already satisfied: youtube_dl in /environment/miniconda3/lib/python3.7/site-packages (from tao==0.1.0) (2021.12.17)\n",
      "Requirement already satisfied: numba in /environment/miniconda3/lib/python3.7/site-packages (from tao==0.1.0) (0.53.0)\n",
      "Requirement already satisfied: motmetrics in /environment/miniconda3/lib/python3.7/site-packages (from tao==0.1.0) (1.2.5)\n",
      "Requirement already satisfied: termcolor in /environment/miniconda3/lib/python3.7/site-packages (from script_utils@ git+https://github.com/achalddave/python-script-utils.git@v0.0.2#egg=script_utils->tao==0.1.0) (1.1.0)\n",
      "Requirement already satisfied: numpy in /environment/miniconda3/lib/python3.7/site-packages (from moviepy~=0.2->tao==0.1.0) (1.21.4)\n",
      "Requirement already satisfied: imageio<3.0,>=2.1.2 in /environment/miniconda3/lib/python3.7/site-packages (from moviepy~=0.2->tao==0.1.0) (2.13.3)\n",
      "Requirement already satisfied: decorator<5.0,>=4.0.2 in /environment/miniconda3/lib/python3.7/site-packages (from moviepy~=0.2->tao==0.1.0) (4.4.2)\n",
      "Requirement already satisfied: pillow>=8.3.2 in /environment/miniconda3/lib/python3.7/site-packages (from imageio<3.0,>=2.1.2->moviepy~=0.2->tao==0.1.0) (8.4.0)\n",
      "Requirement already satisfied: s3transfer<0.6.0,>=0.5.0 in /environment/miniconda3/lib/python3.7/site-packages (from boto3->tao==0.1.0) (0.5.2)\n",
      "Requirement already satisfied: botocore<1.25.0,>=1.24.46 in /environment/miniconda3/lib/python3.7/site-packages (from boto3->tao==0.1.0) (1.24.46)\n",
      "Requirement already satisfied: jmespath<2.0.0,>=0.7.1 in /environment/miniconda3/lib/python3.7/site-packages (from boto3->tao==0.1.0) (0.10.0)\n",
      "Requirement already satisfied: python-dateutil<3.0.0,>=2.1 in /environment/miniconda3/lib/python3.7/site-packages (from botocore<1.25.0,>=1.24.46->boto3->tao==0.1.0) (2.8.2)\n",
      "Requirement already satisfied: urllib3<1.27,>=1.25.4 in /environment/miniconda3/lib/python3.7/site-packages (from botocore<1.25.0,>=1.24.46->boto3->tao==0.1.0) (1.25.11)\n",
      "Requirement already satisfied: six>=1.5 in /environment/miniconda3/lib/python3.7/site-packages (from python-dateutil<3.0.0,>=2.1->botocore<1.25.0,>=1.24.46->boto3->tao==0.1.0) (1.16.0)\n",
      "Requirement already satisfied: xmltodict>=0.12.0 in /environment/miniconda3/lib/python3.7/site-packages (from motmetrics->tao==0.1.0) (0.12.0)\n",
      "Requirement already satisfied: pandas>=0.23.1 in /environment/miniconda3/lib/python3.7/site-packages (from motmetrics->tao==0.1.0) (1.3.4)\n",
      "Requirement already satisfied: pytz>=2017.3 in /environment/miniconda3/lib/python3.7/site-packages (from pandas>=0.23.1->motmetrics->tao==0.1.0) (2021.3)\n",
      "Requirement already satisfied: llvmlite<0.37,>=0.36.0rc1 in /environment/miniconda3/lib/python3.7/site-packages (from numba->tao==0.1.0) (0.36.0)\n",
      "Requirement already satisfied: setuptools in /environment/miniconda3/lib/python3.7/site-packages (from numba->tao==0.1.0) (52.0.0.post20210125)\n",
      "Requirement already satisfied: PyYAML in /environment/miniconda3/lib/python3.7/site-packages (from yacs->tao==0.1.0) (6.0)\n"
     ]
    }
   ],
   "source": [
    "# MOT Challenge evaluation\n",
    "!pip install git+https://github.com/JonathonLuiten/TrackEval.git\n",
    "\n",
    "# VOT Challenge\n",
    "!pip install git+https://github.com/votchallenge/toolkit.git\n",
    "\n",
    "# LVIS evaluation\n",
    "!pip install git+https://github.com/lvis-dataset/lvis-api.git\n",
    "\n",
    "# TAO evaluation\n",
    "!pip install git+https://github.com/TAO-Dataset/tao.git"
   ]
  },
  {
   "cell_type": "markdown",
   "id": "a828bfe4-82e5-497a-9bda-cb9837df2cb3",
   "metadata": {},
   "source": [
    "## 下载预训练模型权重文件和视频素材"
   ]
  },
  {
   "cell_type": "code",
   "execution_count": 9,
   "id": "5aac1d0c-dbf5-478c-ab80-7e2aa0ab0f01",
   "metadata": {},
   "outputs": [],
   "source": [
    "import os\n",
    "\n",
    "# 创建 checkpoints 文件夹，用于存放预训练模型权重文件\n",
    "os.mkdir('checkpoints')\n",
    "\n",
    "# 创建 outputs 文件夹，用于存放预测结果\n",
    "os.mkdir('outputs')\n",
    "\n",
    "# 创建 data 文件夹，用于存放视频\n",
    "os.mkdir('data')"
   ]
  },
  {
   "cell_type": "markdown",
   "id": "e4fb1cb6-2b9b-418c-9230-6b413c748095",
   "metadata": {},
   "source": [
    "## 下载素材\n",
    "\n",
    "如果报错`Unable to establish SSL connection.`，重新运行代码块即可。"
   ]
  },
  {
   "cell_type": "code",
   "execution_count": 10,
   "id": "be87594b-e786-4337-b0da-e601b6f8212e",
   "metadata": {},
   "outputs": [
    {
     "name": "stdout",
     "output_type": "stream",
     "text": [
      "--2022-04-25 13:00:11--  https://zihao-openmmlab.obs.cn-east-3.myhuaweicloud.com/20220418-mmtracking/data/bee.mp4\n",
      "Connecting to 172.16.0.13:5848... connected.\n",
      "Proxy request sent, awaiting response... 200 OK\n",
      "Length: 3742915 (3.6M) [video/mp4]\n",
      "Saving to: ‘data/bee.mp4’\n",
      "\n",
      "data/bee.mp4        100%[===================>]   3.57M  9.97MB/s    in 0.4s    \n",
      "\n",
      "2022-04-25 13:00:12 (9.97 MB/s) - ‘data/bee.mp4’ saved [3742915/3742915]\n",
      "\n",
      "--2022-04-25 13:00:12--  https://zihao-openmmlab.obs.cn-east-3.myhuaweicloud.com/20220418-mmtracking/data/billiards1.mp4\n",
      "Connecting to 172.16.0.13:5848... connected.\n",
      "Proxy request sent, awaiting response... 200 OK\n",
      "Length: 337375 (329K) [video/mp4]\n",
      "Saving to: ‘data/billiards1.mp4’\n",
      "\n",
      "data/billiards1.mp4 100%[===================>] 329.47K  1.73MB/s    in 0.2s    \n",
      "\n",
      "2022-04-25 13:00:12 (1.73 MB/s) - ‘data/billiards1.mp4’ saved [337375/337375]\n",
      "\n",
      "--2022-04-25 13:00:12--  https://zihao-openmmlab.obs.cn-east-3.myhuaweicloud.com/20220418-mmtracking/data/billiards2.mp4\n",
      "Connecting to 172.16.0.13:5848... connected.\n",
      "Proxy request sent, awaiting response... 200 OK\n",
      "Length: 308631 (301K) [video/mp4]\n",
      "Saving to: ‘data/billiards2.mp4’\n",
      "\n",
      "data/billiards2.mp4 100%[===================>] 301.40K  1.58MB/s    in 0.2s    \n",
      "\n",
      "2022-04-25 13:00:13 (1.58 MB/s) - ‘data/billiards2.mp4’ saved [308631/308631]\n",
      "\n",
      "--2022-04-25 13:00:13--  https://zihao-openmmlab.obs.cn-east-3.myhuaweicloud.com/20220418-mmtracking/data/billiards3.mp4\n",
      "Connecting to 172.16.0.13:5848... connected.\n",
      "Proxy request sent, awaiting response... 200 OK\n",
      "Length: 1482753 (1.4M) [video/mp4]\n",
      "Saving to: ‘data/billiards3.mp4’\n",
      "\n",
      "data/billiards3.mp4 100%[===================>]   1.41M  4.51MB/s    in 0.3s    \n",
      "\n",
      "2022-04-25 13:00:13 (4.51 MB/s) - ‘data/billiards3.mp4’ saved [1482753/1482753]\n",
      "\n",
      "--2022-04-25 13:00:13--  https://zihao-openmmlab.obs.cn-east-3.myhuaweicloud.com/20220418-mmtracking/data/billiards4.mp4\n",
      "Connecting to 172.16.0.13:5848... connected.\n",
      "Proxy request sent, awaiting response... 200 OK\n",
      "Length: 429757 (420K) [video/mp4]\n",
      "Saving to: ‘data/billiards4.mp4’\n",
      "\n",
      "data/billiards4.mp4 100%[===================>] 419.68K  2.02MB/s    in 0.2s    \n",
      "\n",
      "2022-04-25 13:00:14 (2.02 MB/s) - ‘data/billiards4.mp4’ saved [429757/429757]\n",
      "\n",
      "--2022-04-25 13:00:14--  https://zihao-openmmlab.obs.cn-east-3.myhuaweicloud.com/20220418-mmtracking/data/mot_people_short.mp4\n",
      "Connecting to 172.16.0.13:5848... connected.\n",
      "Proxy request sent, awaiting response... 200 OK\n",
      "Length: 1392164 (1.3M) [video/mp4]\n",
      "Saving to: ‘data/mot_people_short.mp4’\n",
      "\n",
      "data/mot_people_sho 100%[===================>]   1.33M  4.76MB/s    in 0.3s    \n",
      "\n",
      "2022-04-25 13:00:15 (4.76 MB/s) - ‘data/mot_people_short.mp4’ saved [1392164/1392164]\n",
      "\n",
      "--2022-04-25 13:00:15--  https://zihao-openmmlab.obs.cn-east-3.myhuaweicloud.com/20220418-mmtracking/data/mot_people_medium.mp4\n",
      "Connecting to 172.16.0.13:5848... connected.\n",
      "Proxy request sent, awaiting response... 200 OK\n",
      "Length: 11447206 (11M) [video/mp4]\n",
      "Saving to: ‘data/mot_people_medium.mp4’\n",
      "\n",
      "data/mot_people_med 100%[===================>]  10.92M  19.8MB/s    in 0.6s    \n",
      "\n",
      "2022-04-25 13:00:15 (19.8 MB/s) - ‘data/mot_people_medium.mp4’ saved [11447206/11447206]\n",
      "\n",
      "--2022-04-25 13:00:16--  https://zihao-openmmlab.obs.cn-east-3.myhuaweicloud.com/20220418-mmtracking/data/mot_people_long.mp4\n",
      "Connecting to 172.16.0.13:5848... connected.\n",
      "Proxy request sent, awaiting response... 200 OK\n",
      "Length: 109529289 (104M) [video/mp4]\n",
      "Saving to: ‘data/mot_people_long.mp4’\n",
      "\n",
      "data/mot_people_lon 100%[===================>] 104.46M  42.9MB/s    in 2.4s    \n",
      "\n",
      "2022-04-25 13:00:18 (42.9 MB/s) - ‘data/mot_people_long.mp4’ saved [109529289/109529289]\n",
      "\n",
      "--2022-04-25 13:00:19--  https://zihao-openmmlab.obs.cn-east-3.myhuaweicloud.com/20220418-mmtracking/data/gt_box_file.txt\n",
      "Connecting to 172.16.0.13:5848... connected.\n",
      "Proxy request sent, awaiting response... 200 OK\n",
      "Length: 15 [text/plain]\n",
      "Saving to: ‘data/gt_box_file.txt’\n",
      "\n",
      "data/gt_box_file.tx 100%[===================>]      15  --.-KB/s    in 0s      \n",
      "\n",
      "2022-04-25 13:00:19 (204 KB/s) - ‘data/gt_box_file.txt’ saved [15/15]\n",
      "\n"
     ]
    }
   ],
   "source": [
    "# 蜜蜂视频，来源：https://www.youtube.com/watch?v=45mKyCpoDBo\n",
    "!wget https://zihao-openmmlab.obs.cn-east-3.myhuaweicloud.com/20220418-mmtracking/data/bee.mp4 -O data/bee.mp4\n",
    "\n",
    "# 花式台球视频，来源：https://www.youtube.com/watch?v=l1KzjjKxqaA\n",
    "!wget https://zihao-openmmlab.obs.cn-east-3.myhuaweicloud.com/20220418-mmtracking/data/billiards1.mp4 -O data/billiards1.mp4\n",
    "!wget https://zihao-openmmlab.obs.cn-east-3.myhuaweicloud.com/20220418-mmtracking/data/billiards2.mp4 -O data/billiards2.mp4\n",
    "# 花式台球视频，来源：https://www.youtube.com/watch?v=QfKEyPtbVas\n",
    "!wget https://zihao-openmmlab.obs.cn-east-3.myhuaweicloud.com/20220418-mmtracking/data/billiards3.mp4 -O data/billiards3.mp4\n",
    "# 花式台球视频，来源：https://www.bilibili.com/video/BV1Es41187Y4\n",
    "!wget https://zihao-openmmlab.obs.cn-east-3.myhuaweicloud.com/20220418-mmtracking/data/billiards4.mp4 -O data/billiards4.mp4\n",
    "\n",
    "# 人流量检测视频，来源：https://www.bilibili.com/video/BV1fE411w7ac\n",
    "!wget https://zihao-openmmlab.obs.cn-east-3.myhuaweicloud.com/20220418-mmtracking/data/mot_people_short.mp4 -O data/mot_people_short.mp4\n",
    "!wget https://zihao-openmmlab.obs.cn-east-3.myhuaweicloud.com/20220418-mmtracking/data/mot_people_medium.mp4 -O data/mot_people_medium.mp4\n",
    "!wget https://zihao-openmmlab.obs.cn-east-3.myhuaweicloud.com/20220418-mmtracking/data/mot_people_long.mp4 -O data/mot_people_long.mp4\n",
    "\n",
    "# 单目标检测 gt_box_file.txt 文件\n",
    "!wget https://zihao-openmmlab.obs.cn-east-3.myhuaweicloud.com/20220418-mmtracking/data/gt_box_file.txt -O data/gt_box_file.txt"
   ]
  },
  {
   "cell_type": "markdown",
   "id": "fa97e1da-f245-4d32-892d-dec07a6b2c16",
   "metadata": {},
   "source": [
    "## 检查是否安装成功"
   ]
  },
  {
   "cell_type": "code",
   "execution_count": 11,
   "id": "3dd67a85-9c04-4f19-8693-a051b6a4e0bd",
   "metadata": {},
   "outputs": [
    {
     "data": {
      "text/plain": [
       "{'sys.platform': 'linux',\n",
       " 'Python': '3.7.10 (default, Jun  4 2021, 14:48:32) [GCC 7.5.0]',\n",
       " 'CUDA available': True,\n",
       " 'GPU 0': 'NVIDIA GeForce GTX 1080 Ti',\n",
       " 'CUDA_HOME': '/usr/local/cuda',\n",
       " 'NVCC': 'Cuda compilation tools, release 11.2, V11.2.152',\n",
       " 'GCC': 'gcc (Ubuntu 9.3.0-17ubuntu1~20.04) 9.3.0',\n",
       " 'PyTorch': '1.10.1+cu113',\n",
       " 'PyTorch compiling details': 'PyTorch built with:\\n  - GCC 7.3\\n  - C++ Version: 201402\\n  - Intel(R) Math Kernel Library Version 2020.0.0 Product Build 20191122 for Intel(R) 64 architecture applications\\n  - Intel(R) MKL-DNN v2.2.3 (Git Hash 7336ca9f055cf1bfa13efb658fe15dc9b41f0740)\\n  - OpenMP 201511 (a.k.a. OpenMP 4.5)\\n  - LAPACK is enabled (usually provided by MKL)\\n  - NNPACK is enabled\\n  - CPU capability usage: AVX2\\n  - CUDA Runtime 11.3\\n  - NVCC architecture flags: -gencode;arch=compute_37,code=sm_37;-gencode;arch=compute_50,code=sm_50;-gencode;arch=compute_60,code=sm_60;-gencode;arch=compute_70,code=sm_70;-gencode;arch=compute_75,code=sm_75;-gencode;arch=compute_80,code=sm_80;-gencode;arch=compute_86,code=sm_86\\n  - CuDNN 8.2\\n  - Magma 2.5.2\\n  - Build settings: BLAS_INFO=mkl, BUILD_TYPE=Release, CUDA_VERSION=11.3, CUDNN_VERSION=8.2.0, CXX_COMPILER=/opt/rh/devtoolset-7/root/usr/bin/c++, CXX_FLAGS= -Wno-deprecated -fvisibility-inlines-hidden -DUSE_PTHREADPOOL -fopenmp -DNDEBUG -DUSE_KINETO -DUSE_FBGEMM -DUSE_QNNPACK -DUSE_PYTORCH_QNNPACK -DUSE_XNNPACK -DSYMBOLICATE_MOBILE_DEBUG_HANDLE -DEDGE_PROFILER_USE_KINETO -O2 -fPIC -Wno-narrowing -Wall -Wextra -Werror=return-type -Wno-missing-field-initializers -Wno-type-limits -Wno-array-bounds -Wno-unknown-pragmas -Wno-sign-compare -Wno-unused-parameter -Wno-unused-variable -Wno-unused-function -Wno-unused-result -Wno-unused-local-typedefs -Wno-strict-overflow -Wno-strict-aliasing -Wno-error=deprecated-declarations -Wno-stringop-overflow -Wno-psabi -Wno-error=pedantic -Wno-error=redundant-decls -Wno-error=old-style-cast -fdiagnostics-color=always -faligned-new -Wno-unused-but-set-variable -Wno-maybe-uninitialized -fno-math-errno -fno-trapping-math -Werror=format -Wno-stringop-overflow, LAPACK_INFO=mkl, PERF_WITH_AVX=1, PERF_WITH_AVX2=1, PERF_WITH_AVX512=1, TORCH_VERSION=1.10.1, USE_CUDA=ON, USE_CUDNN=ON, USE_EXCEPTION_PTR=1, USE_GFLAGS=OFF, USE_GLOG=OFF, USE_MKL=ON, USE_MKLDNN=ON, USE_MPI=OFF, USE_NCCL=ON, USE_NNPACK=ON, USE_OPENMP=ON, \\n',\n",
       " 'TorchVision': '0.11.2+cu113',\n",
       " 'OpenCV': '4.5.4',\n",
       " 'MMCV': '1.5.0',\n",
       " 'MMCV Compiler': 'GCC 7.3',\n",
       " 'MMCV CUDA Compiler': '11.3'}"
      ]
     },
     "execution_count": 11,
     "metadata": {},
     "output_type": "execute_result"
    }
   ],
   "source": [
    "from mmcv import collect_env\n",
    "collect_env()"
   ]
  },
  {
   "cell_type": "code",
   "execution_count": 12,
   "id": "a332268c-3031-4f5d-a415-b11ee71857d8",
   "metadata": {},
   "outputs": [
    {
     "name": "stdout",
     "output_type": "stream",
     "text": [
      "Pytorch 版本 1.10.1+cu113\n",
      "CUDA 是否可用 True\n",
      "CUDA版本 11.3\n",
      "编译器版本 GCC 7.3\n",
      "mmdetection版本 2.23.0\n",
      "mmtracking版本 0.12.0\n",
      "全部安装成功\n"
     ]
    }
   ],
   "source": [
    "# 检查 Pytorch\n",
    "import torch, torchvision\n",
    "print('Pytorch 版本', torch.__version__)\n",
    "print('CUDA 是否可用',torch.cuda.is_available())\n",
    "\n",
    "# 检查 mmcv\n",
    "from mmcv.ops import get_compiling_cuda_version, get_compiler_version\n",
    "print('CUDA版本', get_compiling_cuda_version())\n",
    "print('编译器版本', get_compiler_version())\n",
    "\n",
    "# Check MMDetection installation\n",
    "import mmdet\n",
    "print('mmdetection版本', mmdet.__version__)\n",
    "\n",
    "# Check MMTracking installation\n",
    "import mmtrack\n",
    "print('mmtracking版本', mmtrack.__version__)\n",
    "\n",
    "print('全部安装成功')"
   ]
  },
  {
   "cell_type": "markdown",
   "id": "89716d32-b021-40f7-bb8b-72f6b9df6157",
   "metadata": {},
   "source": [
    "## 小试牛刀"
   ]
  },
  {
   "cell_type": "markdown",
   "id": "6ea9b94f-0222-4986-96aa-d0bf3bdfcdd4",
   "metadata": {},
   "source": [
    "使用预训练的`ByteTrack`多目标追踪模型，对`data/mot_people_short.mp4`文件进行追踪预测，生成`outputs/output_A_mot_people_short.mp4`视频文件。"
   ]
  },
  {
   "cell_type": "code",
   "execution_count": 13,
   "id": "b3f61294-6748-4a4c-8628-2bb80a861ea5",
   "metadata": {},
   "outputs": [
    {
     "name": "stdout",
     "output_type": "stream",
     "text": [
      "2022-04-25 13:00:26,693 - mmdet - INFO - image shape: height=800, width=1440 in YOLOX.__init__\n",
      "2022-04-25 13:00:26,739 - mmtrack - INFO - initialize YOLOX with init_cfg {'type': 'Pretrained', 'checkpoint': 'https://download.openmmlab.com/mmdetection/v2.0/yolox/yolox_x_8x8_300e_coco/yolox_x_8x8_300e_coco_20211126_140254-1ef88d67.pth'}\n",
      "2022-04-25 13:00:26,740 - mmcv - INFO - load model from: https://download.openmmlab.com/mmdetection/v2.0/yolox/yolox_x_8x8_300e_coco/yolox_x_8x8_300e_coco_20211126_140254-1ef88d67.pth\n",
      "2022-04-25 13:00:26,740 - mmcv - INFO - load checkpoint from http path: https://download.openmmlab.com/mmdetection/v2.0/yolox/yolox_x_8x8_300e_coco/yolox_x_8x8_300e_coco_20211126_140254-1ef88d67.pth\n",
      "2022-04-25 13:00:27,236 - mmcv - WARNING - The model and loaded state dict do not match exactly\n",
      "\n",
      "size mismatch for bbox_head.multi_level_conv_cls.0.weight: copying a param with shape torch.Size([80, 320, 1, 1]) from checkpoint, the shape in current model is torch.Size([1, 320, 1, 1]).\n",
      "size mismatch for bbox_head.multi_level_conv_cls.0.bias: copying a param with shape torch.Size([80]) from checkpoint, the shape in current model is torch.Size([1]).\n",
      "size mismatch for bbox_head.multi_level_conv_cls.1.weight: copying a param with shape torch.Size([80, 320, 1, 1]) from checkpoint, the shape in current model is torch.Size([1, 320, 1, 1]).\n",
      "size mismatch for bbox_head.multi_level_conv_cls.1.bias: copying a param with shape torch.Size([80]) from checkpoint, the shape in current model is torch.Size([1]).\n",
      "size mismatch for bbox_head.multi_level_conv_cls.2.weight: copying a param with shape torch.Size([80, 320, 1, 1]) from checkpoint, the shape in current model is torch.Size([1, 320, 1, 1]).\n",
      "size mismatch for bbox_head.multi_level_conv_cls.2.bias: copying a param with shape torch.Size([80]) from checkpoint, the shape in current model is torch.Size([1]).\n",
      "load checkpoint from http path: https://download.openmmlab.com/mmtracking/mot/bytetrack/bytetrack_yolox_x/bytetrack_yolox_x_crowdhuman_mot17-private-half_20211218_205500-1985c9f0.pth\n",
      "The model and loaded state dict do not match exactly\n",
      "\n",
      "unexpected key in source state_dict: ema_detector_backbone_stem_conv_conv_weight, ema_detector_backbone_stem_conv_bn_weight, ema_detector_backbone_stem_conv_bn_bias, ema_detector_backbone_stem_conv_bn_running_mean, ema_detector_backbone_stem_conv_bn_running_var, ema_detector_backbone_stem_conv_bn_num_batches_tracked, ema_detector_backbone_stage1_0_conv_weight, ema_detector_backbone_stage1_0_bn_weight, ema_detector_backbone_stage1_0_bn_bias, ema_detector_backbone_stage1_0_bn_running_mean, ema_detector_backbone_stage1_0_bn_running_var, ema_detector_backbone_stage1_0_bn_num_batches_tracked, ema_detector_backbone_stage1_1_main_conv_conv_weight, ema_detector_backbone_stage1_1_main_conv_bn_weight, ema_detector_backbone_stage1_1_main_conv_bn_bias, ema_detector_backbone_stage1_1_main_conv_bn_running_mean, ema_detector_backbone_stage1_1_main_conv_bn_running_var, ema_detector_backbone_stage1_1_main_conv_bn_num_batches_tracked, ema_detector_backbone_stage1_1_short_conv_conv_weight, ema_detector_backbone_stage1_1_short_conv_bn_weight, ema_detector_backbone_stage1_1_short_conv_bn_bias, ema_detector_backbone_stage1_1_short_conv_bn_running_mean, ema_detector_backbone_stage1_1_short_conv_bn_running_var, ema_detector_backbone_stage1_1_short_conv_bn_num_batches_tracked, ema_detector_backbone_stage1_1_final_conv_conv_weight, ema_detector_backbone_stage1_1_final_conv_bn_weight, ema_detector_backbone_stage1_1_final_conv_bn_bias, ema_detector_backbone_stage1_1_final_conv_bn_running_mean, ema_detector_backbone_stage1_1_final_conv_bn_running_var, ema_detector_backbone_stage1_1_final_conv_bn_num_batches_tracked, ema_detector_backbone_stage1_1_blocks_0_conv1_conv_weight, ema_detector_backbone_stage1_1_blocks_0_conv1_bn_weight, ema_detector_backbone_stage1_1_blocks_0_conv1_bn_bias, ema_detector_backbone_stage1_1_blocks_0_conv1_bn_running_mean, ema_detector_backbone_stage1_1_blocks_0_conv1_bn_running_var, ema_detector_backbone_stage1_1_blocks_0_conv1_bn_num_batches_tracked, ema_detector_backbone_stage1_1_blocks_0_conv2_conv_weight, ema_detector_backbone_stage1_1_blocks_0_conv2_bn_weight, ema_detector_backbone_stage1_1_blocks_0_conv2_bn_bias, ema_detector_backbone_stage1_1_blocks_0_conv2_bn_running_mean, ema_detector_backbone_stage1_1_blocks_0_conv2_bn_running_var, ema_detector_backbone_stage1_1_blocks_0_conv2_bn_num_batches_tracked, ema_detector_backbone_stage1_1_blocks_1_conv1_conv_weight, ema_detector_backbone_stage1_1_blocks_1_conv1_bn_weight, ema_detector_backbone_stage1_1_blocks_1_conv1_bn_bias, ema_detector_backbone_stage1_1_blocks_1_conv1_bn_running_mean, ema_detector_backbone_stage1_1_blocks_1_conv1_bn_running_var, ema_detector_backbone_stage1_1_blocks_1_conv1_bn_num_batches_tracked, ema_detector_backbone_stage1_1_blocks_1_conv2_conv_weight, ema_detector_backbone_stage1_1_blocks_1_conv2_bn_weight, ema_detector_backbone_stage1_1_blocks_1_conv2_bn_bias, ema_detector_backbone_stage1_1_blocks_1_conv2_bn_running_mean, ema_detector_backbone_stage1_1_blocks_1_conv2_bn_running_var, ema_detector_backbone_stage1_1_blocks_1_conv2_bn_num_batches_tracked, ema_detector_backbone_stage1_1_blocks_2_conv1_conv_weight, ema_detector_backbone_stage1_1_blocks_2_conv1_bn_weight, ema_detector_backbone_stage1_1_blocks_2_conv1_bn_bias, ema_detector_backbone_stage1_1_blocks_2_conv1_bn_running_mean, ema_detector_backbone_stage1_1_blocks_2_conv1_bn_running_var, ema_detector_backbone_stage1_1_blocks_2_conv1_bn_num_batches_tracked, ema_detector_backbone_stage1_1_blocks_2_conv2_conv_weight, ema_detector_backbone_stage1_1_blocks_2_conv2_bn_weight, ema_detector_backbone_stage1_1_blocks_2_conv2_bn_bias, ema_detector_backbone_stage1_1_blocks_2_conv2_bn_running_mean, ema_detector_backbone_stage1_1_blocks_2_conv2_bn_running_var, ema_detector_backbone_stage1_1_blocks_2_conv2_bn_num_batches_tracked, ema_detector_backbone_stage1_1_blocks_3_conv1_conv_weight, ema_detector_backbone_stage1_1_blocks_3_conv1_bn_weight, ema_detector_backbone_stage1_1_blocks_3_conv1_bn_bias, ema_detector_backbone_stage1_1_blocks_3_conv1_bn_running_mean, ema_detector_backbone_stage1_1_blocks_3_conv1_bn_running_var, ema_detector_backbone_stage1_1_blocks_3_conv1_bn_num_batches_tracked, ema_detector_backbone_stage1_1_blocks_3_conv2_conv_weight, ema_detector_backbone_stage1_1_blocks_3_conv2_bn_weight, ema_detector_backbone_stage1_1_blocks_3_conv2_bn_bias, ema_detector_backbone_stage1_1_blocks_3_conv2_bn_running_mean, ema_detector_backbone_stage1_1_blocks_3_conv2_bn_running_var, ema_detector_backbone_stage1_1_blocks_3_conv2_bn_num_batches_tracked, ema_detector_backbone_stage2_0_conv_weight, ema_detector_backbone_stage2_0_bn_weight, ema_detector_backbone_stage2_0_bn_bias, ema_detector_backbone_stage2_0_bn_running_mean, ema_detector_backbone_stage2_0_bn_running_var, ema_detector_backbone_stage2_0_bn_num_batches_tracked, ema_detector_backbone_stage2_1_main_conv_conv_weight, ema_detector_backbone_stage2_1_main_conv_bn_weight, ema_detector_backbone_stage2_1_main_conv_bn_bias, ema_detector_backbone_stage2_1_main_conv_bn_running_mean, ema_detector_backbone_stage2_1_main_conv_bn_running_var, ema_detector_backbone_stage2_1_main_conv_bn_num_batches_tracked, ema_detector_backbone_stage2_1_short_conv_conv_weight, ema_detector_backbone_stage2_1_short_conv_bn_weight, ema_detector_backbone_stage2_1_short_conv_bn_bias, ema_detector_backbone_stage2_1_short_conv_bn_running_mean, ema_detector_backbone_stage2_1_short_conv_bn_running_var, ema_detector_backbone_stage2_1_short_conv_bn_num_batches_tracked, ema_detector_backbone_stage2_1_final_conv_conv_weight, ema_detector_backbone_stage2_1_final_conv_bn_weight, ema_detector_backbone_stage2_1_final_conv_bn_bias, ema_detector_backbone_stage2_1_final_conv_bn_running_mean, ema_detector_backbone_stage2_1_final_conv_bn_running_var, ema_detector_backbone_stage2_1_final_conv_bn_num_batches_tracked, ema_detector_backbone_stage2_1_blocks_0_conv1_conv_weight, ema_detector_backbone_stage2_1_blocks_0_conv1_bn_weight, ema_detector_backbone_stage2_1_blocks_0_conv1_bn_bias, ema_detector_backbone_stage2_1_blocks_0_conv1_bn_running_mean, ema_detector_backbone_stage2_1_blocks_0_conv1_bn_running_var, ema_detector_backbone_stage2_1_blocks_0_conv1_bn_num_batches_tracked, ema_detector_backbone_stage2_1_blocks_0_conv2_conv_weight, ema_detector_backbone_stage2_1_blocks_0_conv2_bn_weight, ema_detector_backbone_stage2_1_blocks_0_conv2_bn_bias, ema_detector_backbone_stage2_1_blocks_0_conv2_bn_running_mean, ema_detector_backbone_stage2_1_blocks_0_conv2_bn_running_var, ema_detector_backbone_stage2_1_blocks_0_conv2_bn_num_batches_tracked, ema_detector_backbone_stage2_1_blocks_1_conv1_conv_weight, ema_detector_backbone_stage2_1_blocks_1_conv1_bn_weight, ema_detector_backbone_stage2_1_blocks_1_conv1_bn_bias, ema_detector_backbone_stage2_1_blocks_1_conv1_bn_running_mean, ema_detector_backbone_stage2_1_blocks_1_conv1_bn_running_var, ema_detector_backbone_stage2_1_blocks_1_conv1_bn_num_batches_tracked, ema_detector_backbone_stage2_1_blocks_1_conv2_conv_weight, ema_detector_backbone_stage2_1_blocks_1_conv2_bn_weight, ema_detector_backbone_stage2_1_blocks_1_conv2_bn_bias, ema_detector_backbone_stage2_1_blocks_1_conv2_bn_running_mean, ema_detector_backbone_stage2_1_blocks_1_conv2_bn_running_var, ema_detector_backbone_stage2_1_blocks_1_conv2_bn_num_batches_tracked, ema_detector_backbone_stage2_1_blocks_2_conv1_conv_weight, ema_detector_backbone_stage2_1_blocks_2_conv1_bn_weight, ema_detector_backbone_stage2_1_blocks_2_conv1_bn_bias, ema_detector_backbone_stage2_1_blocks_2_conv1_bn_running_mean, ema_detector_backbone_stage2_1_blocks_2_conv1_bn_running_var, ema_detector_backbone_stage2_1_blocks_2_conv1_bn_num_batches_tracked, ema_detector_backbone_stage2_1_blocks_2_conv2_conv_weight, ema_detector_backbone_stage2_1_blocks_2_conv2_bn_weight, ema_detector_backbone_stage2_1_blocks_2_conv2_bn_bias, ema_detector_backbone_stage2_1_blocks_2_conv2_bn_running_mean, ema_detector_backbone_stage2_1_blocks_2_conv2_bn_running_var, ema_detector_backbone_stage2_1_blocks_2_conv2_bn_num_batches_tracked, ema_detector_backbone_stage2_1_blocks_3_conv1_conv_weight, ema_detector_backbone_stage2_1_blocks_3_conv1_bn_weight, ema_detector_backbone_stage2_1_blocks_3_conv1_bn_bias, ema_detector_backbone_stage2_1_blocks_3_conv1_bn_running_mean, ema_detector_backbone_stage2_1_blocks_3_conv1_bn_running_var, ema_detector_backbone_stage2_1_blocks_3_conv1_bn_num_batches_tracked, ema_detector_backbone_stage2_1_blocks_3_conv2_conv_weight, ema_detector_backbone_stage2_1_blocks_3_conv2_bn_weight, ema_detector_backbone_stage2_1_blocks_3_conv2_bn_bias, ema_detector_backbone_stage2_1_blocks_3_conv2_bn_running_mean, ema_detector_backbone_stage2_1_blocks_3_conv2_bn_running_var, ema_detector_backbone_stage2_1_blocks_3_conv2_bn_num_batches_tracked, ema_detector_backbone_stage2_1_blocks_4_conv1_conv_weight, ema_detector_backbone_stage2_1_blocks_4_conv1_bn_weight, ema_detector_backbone_stage2_1_blocks_4_conv1_bn_bias, ema_detector_backbone_stage2_1_blocks_4_conv1_bn_running_mean, ema_detector_backbone_stage2_1_blocks_4_conv1_bn_running_var, ema_detector_backbone_stage2_1_blocks_4_conv1_bn_num_batches_tracked, ema_detector_backbone_stage2_1_blocks_4_conv2_conv_weight, ema_detector_backbone_stage2_1_blocks_4_conv2_bn_weight, ema_detector_backbone_stage2_1_blocks_4_conv2_bn_bias, ema_detector_backbone_stage2_1_blocks_4_conv2_bn_running_mean, ema_detector_backbone_stage2_1_blocks_4_conv2_bn_running_var, ema_detector_backbone_stage2_1_blocks_4_conv2_bn_num_batches_tracked, ema_detector_backbone_stage2_1_blocks_5_conv1_conv_weight, ema_detector_backbone_stage2_1_blocks_5_conv1_bn_weight, ema_detector_backbone_stage2_1_blocks_5_conv1_bn_bias, ema_detector_backbone_stage2_1_blocks_5_conv1_bn_running_mean, ema_detector_backbone_stage2_1_blocks_5_conv1_bn_running_var, ema_detector_backbone_stage2_1_blocks_5_conv1_bn_num_batches_tracked, ema_detector_backbone_stage2_1_blocks_5_conv2_conv_weight, ema_detector_backbone_stage2_1_blocks_5_conv2_bn_weight, ema_detector_backbone_stage2_1_blocks_5_conv2_bn_bias, ema_detector_backbone_stage2_1_blocks_5_conv2_bn_running_mean, ema_detector_backbone_stage2_1_blocks_5_conv2_bn_running_var, ema_detector_backbone_stage2_1_blocks_5_conv2_bn_num_batches_tracked, ema_detector_backbone_stage2_1_blocks_6_conv1_conv_weight, ema_detector_backbone_stage2_1_blocks_6_conv1_bn_weight, ema_detector_backbone_stage2_1_blocks_6_conv1_bn_bias, ema_detector_backbone_stage2_1_blocks_6_conv1_bn_running_mean, ema_detector_backbone_stage2_1_blocks_6_conv1_bn_running_var, ema_detector_backbone_stage2_1_blocks_6_conv1_bn_num_batches_tracked, ema_detector_backbone_stage2_1_blocks_6_conv2_conv_weight, ema_detector_backbone_stage2_1_blocks_6_conv2_bn_weight, ema_detector_backbone_stage2_1_blocks_6_conv2_bn_bias, ema_detector_backbone_stage2_1_blocks_6_conv2_bn_running_mean, ema_detector_backbone_stage2_1_blocks_6_conv2_bn_running_var, ema_detector_backbone_stage2_1_blocks_6_conv2_bn_num_batches_tracked, ema_detector_backbone_stage2_1_blocks_7_conv1_conv_weight, ema_detector_backbone_stage2_1_blocks_7_conv1_bn_weight, ema_detector_backbone_stage2_1_blocks_7_conv1_bn_bias, ema_detector_backbone_stage2_1_blocks_7_conv1_bn_running_mean, ema_detector_backbone_stage2_1_blocks_7_conv1_bn_running_var, ema_detector_backbone_stage2_1_blocks_7_conv1_bn_num_batches_tracked, ema_detector_backbone_stage2_1_blocks_7_conv2_conv_weight, ema_detector_backbone_stage2_1_blocks_7_conv2_bn_weight, ema_detector_backbone_stage2_1_blocks_7_conv2_bn_bias, ema_detector_backbone_stage2_1_blocks_7_conv2_bn_running_mean, ema_detector_backbone_stage2_1_blocks_7_conv2_bn_running_var, ema_detector_backbone_stage2_1_blocks_7_conv2_bn_num_batches_tracked, ema_detector_backbone_stage2_1_blocks_8_conv1_conv_weight, ema_detector_backbone_stage2_1_blocks_8_conv1_bn_weight, ema_detector_backbone_stage2_1_blocks_8_conv1_bn_bias, ema_detector_backbone_stage2_1_blocks_8_conv1_bn_running_mean, ema_detector_backbone_stage2_1_blocks_8_conv1_bn_running_var, ema_detector_backbone_stage2_1_blocks_8_conv1_bn_num_batches_tracked, ema_detector_backbone_stage2_1_blocks_8_conv2_conv_weight, ema_detector_backbone_stage2_1_blocks_8_conv2_bn_weight, ema_detector_backbone_stage2_1_blocks_8_conv2_bn_bias, ema_detector_backbone_stage2_1_blocks_8_conv2_bn_running_mean, ema_detector_backbone_stage2_1_blocks_8_conv2_bn_running_var, ema_detector_backbone_stage2_1_blocks_8_conv2_bn_num_batches_tracked, ema_detector_backbone_stage2_1_blocks_9_conv1_conv_weight, ema_detector_backbone_stage2_1_blocks_9_conv1_bn_weight, ema_detector_backbone_stage2_1_blocks_9_conv1_bn_bias, ema_detector_backbone_stage2_1_blocks_9_conv1_bn_running_mean, ema_detector_backbone_stage2_1_blocks_9_conv1_bn_running_var, ema_detector_backbone_stage2_1_blocks_9_conv1_bn_num_batches_tracked, ema_detector_backbone_stage2_1_blocks_9_conv2_conv_weight, ema_detector_backbone_stage2_1_blocks_9_conv2_bn_weight, ema_detector_backbone_stage2_1_blocks_9_conv2_bn_bias, ema_detector_backbone_stage2_1_blocks_9_conv2_bn_running_mean, ema_detector_backbone_stage2_1_blocks_9_conv2_bn_running_var, ema_detector_backbone_stage2_1_blocks_9_conv2_bn_num_batches_tracked, ema_detector_backbone_stage2_1_blocks_10_conv1_conv_weight, ema_detector_backbone_stage2_1_blocks_10_conv1_bn_weight, ema_detector_backbone_stage2_1_blocks_10_conv1_bn_bias, ema_detector_backbone_stage2_1_blocks_10_conv1_bn_running_mean, ema_detector_backbone_stage2_1_blocks_10_conv1_bn_running_var, ema_detector_backbone_stage2_1_blocks_10_conv1_bn_num_batches_tracked, ema_detector_backbone_stage2_1_blocks_10_conv2_conv_weight, ema_detector_backbone_stage2_1_blocks_10_conv2_bn_weight, ema_detector_backbone_stage2_1_blocks_10_conv2_bn_bias, ema_detector_backbone_stage2_1_blocks_10_conv2_bn_running_mean, ema_detector_backbone_stage2_1_blocks_10_conv2_bn_running_var, ema_detector_backbone_stage2_1_blocks_10_conv2_bn_num_batches_tracked, ema_detector_backbone_stage2_1_blocks_11_conv1_conv_weight, ema_detector_backbone_stage2_1_blocks_11_conv1_bn_weight, ema_detector_backbone_stage2_1_blocks_11_conv1_bn_bias, ema_detector_backbone_stage2_1_blocks_11_conv1_bn_running_mean, ema_detector_backbone_stage2_1_blocks_11_conv1_bn_running_var, ema_detector_backbone_stage2_1_blocks_11_conv1_bn_num_batches_tracked, ema_detector_backbone_stage2_1_blocks_11_conv2_conv_weight, ema_detector_backbone_stage2_1_blocks_11_conv2_bn_weight, ema_detector_backbone_stage2_1_blocks_11_conv2_bn_bias, ema_detector_backbone_stage2_1_blocks_11_conv2_bn_running_mean, ema_detector_backbone_stage2_1_blocks_11_conv2_bn_running_var, ema_detector_backbone_stage2_1_blocks_11_conv2_bn_num_batches_tracked, ema_detector_backbone_stage3_0_conv_weight, ema_detector_backbone_stage3_0_bn_weight, ema_detector_backbone_stage3_0_bn_bias, ema_detector_backbone_stage3_0_bn_running_mean, ema_detector_backbone_stage3_0_bn_running_var, ema_detector_backbone_stage3_0_bn_num_batches_tracked, ema_detector_backbone_stage3_1_main_conv_conv_weight, ema_detector_backbone_stage3_1_main_conv_bn_weight, ema_detector_backbone_stage3_1_main_conv_bn_bias, ema_detector_backbone_stage3_1_main_conv_bn_running_mean, ema_detector_backbone_stage3_1_main_conv_bn_running_var, ema_detector_backbone_stage3_1_main_conv_bn_num_batches_tracked, ema_detector_backbone_stage3_1_short_conv_conv_weight, ema_detector_backbone_stage3_1_short_conv_bn_weight, ema_detector_backbone_stage3_1_short_conv_bn_bias, ema_detector_backbone_stage3_1_short_conv_bn_running_mean, ema_detector_backbone_stage3_1_short_conv_bn_running_var, ema_detector_backbone_stage3_1_short_conv_bn_num_batches_tracked, ema_detector_backbone_stage3_1_final_conv_conv_weight, ema_detector_backbone_stage3_1_final_conv_bn_weight, ema_detector_backbone_stage3_1_final_conv_bn_bias, ema_detector_backbone_stage3_1_final_conv_bn_running_mean, ema_detector_backbone_stage3_1_final_conv_bn_running_var, ema_detector_backbone_stage3_1_final_conv_bn_num_batches_tracked, ema_detector_backbone_stage3_1_blocks_0_conv1_conv_weight, ema_detector_backbone_stage3_1_blocks_0_conv1_bn_weight, ema_detector_backbone_stage3_1_blocks_0_conv1_bn_bias, ema_detector_backbone_stage3_1_blocks_0_conv1_bn_running_mean, ema_detector_backbone_stage3_1_blocks_0_conv1_bn_running_var, ema_detector_backbone_stage3_1_blocks_0_conv1_bn_num_batches_tracked, ema_detector_backbone_stage3_1_blocks_0_conv2_conv_weight, ema_detector_backbone_stage3_1_blocks_0_conv2_bn_weight, ema_detector_backbone_stage3_1_blocks_0_conv2_bn_bias, ema_detector_backbone_stage3_1_blocks_0_conv2_bn_running_mean, ema_detector_backbone_stage3_1_blocks_0_conv2_bn_running_var, ema_detector_backbone_stage3_1_blocks_0_conv2_bn_num_batches_tracked, ema_detector_backbone_stage3_1_blocks_1_conv1_conv_weight, ema_detector_backbone_stage3_1_blocks_1_conv1_bn_weight, ema_detector_backbone_stage3_1_blocks_1_conv1_bn_bias, ema_detector_backbone_stage3_1_blocks_1_conv1_bn_running_mean, ema_detector_backbone_stage3_1_blocks_1_conv1_bn_running_var, ema_detector_backbone_stage3_1_blocks_1_conv1_bn_num_batches_tracked, ema_detector_backbone_stage3_1_blocks_1_conv2_conv_weight, ema_detector_backbone_stage3_1_blocks_1_conv2_bn_weight, ema_detector_backbone_stage3_1_blocks_1_conv2_bn_bias, ema_detector_backbone_stage3_1_blocks_1_conv2_bn_running_mean, ema_detector_backbone_stage3_1_blocks_1_conv2_bn_running_var, ema_detector_backbone_stage3_1_blocks_1_conv2_bn_num_batches_tracked, ema_detector_backbone_stage3_1_blocks_2_conv1_conv_weight, ema_detector_backbone_stage3_1_blocks_2_conv1_bn_weight, ema_detector_backbone_stage3_1_blocks_2_conv1_bn_bias, ema_detector_backbone_stage3_1_blocks_2_conv1_bn_running_mean, ema_detector_backbone_stage3_1_blocks_2_conv1_bn_running_var, ema_detector_backbone_stage3_1_blocks_2_conv1_bn_num_batches_tracked, ema_detector_backbone_stage3_1_blocks_2_conv2_conv_weight, ema_detector_backbone_stage3_1_blocks_2_conv2_bn_weight, ema_detector_backbone_stage3_1_blocks_2_conv2_bn_bias, ema_detector_backbone_stage3_1_blocks_2_conv2_bn_running_mean, ema_detector_backbone_stage3_1_blocks_2_conv2_bn_running_var, ema_detector_backbone_stage3_1_blocks_2_conv2_bn_num_batches_tracked, ema_detector_backbone_stage3_1_blocks_3_conv1_conv_weight, ema_detector_backbone_stage3_1_blocks_3_conv1_bn_weight, ema_detector_backbone_stage3_1_blocks_3_conv1_bn_bias, ema_detector_backbone_stage3_1_blocks_3_conv1_bn_running_mean, ema_detector_backbone_stage3_1_blocks_3_conv1_bn_running_var, ema_detector_backbone_stage3_1_blocks_3_conv1_bn_num_batches_tracked, ema_detector_backbone_stage3_1_blocks_3_conv2_conv_weight, ema_detector_backbone_stage3_1_blocks_3_conv2_bn_weight, ema_detector_backbone_stage3_1_blocks_3_conv2_bn_bias, ema_detector_backbone_stage3_1_blocks_3_conv2_bn_running_mean, ema_detector_backbone_stage3_1_blocks_3_conv2_bn_running_var, ema_detector_backbone_stage3_1_blocks_3_conv2_bn_num_batches_tracked, ema_detector_backbone_stage3_1_blocks_4_conv1_conv_weight, ema_detector_backbone_stage3_1_blocks_4_conv1_bn_weight, ema_detector_backbone_stage3_1_blocks_4_conv1_bn_bias, ema_detector_backbone_stage3_1_blocks_4_conv1_bn_running_mean, ema_detector_backbone_stage3_1_blocks_4_conv1_bn_running_var, ema_detector_backbone_stage3_1_blocks_4_conv1_bn_num_batches_tracked, ema_detector_backbone_stage3_1_blocks_4_conv2_conv_weight, ema_detector_backbone_stage3_1_blocks_4_conv2_bn_weight, ema_detector_backbone_stage3_1_blocks_4_conv2_bn_bias, ema_detector_backbone_stage3_1_blocks_4_conv2_bn_running_mean, ema_detector_backbone_stage3_1_blocks_4_conv2_bn_running_var, ema_detector_backbone_stage3_1_blocks_4_conv2_bn_num_batches_tracked, ema_detector_backbone_stage3_1_blocks_5_conv1_conv_weight, ema_detector_backbone_stage3_1_blocks_5_conv1_bn_weight, ema_detector_backbone_stage3_1_blocks_5_conv1_bn_bias, ema_detector_backbone_stage3_1_blocks_5_conv1_bn_running_mean, ema_detector_backbone_stage3_1_blocks_5_conv1_bn_running_var, ema_detector_backbone_stage3_1_blocks_5_conv1_bn_num_batches_tracked, ema_detector_backbone_stage3_1_blocks_5_conv2_conv_weight, ema_detector_backbone_stage3_1_blocks_5_conv2_bn_weight, ema_detector_backbone_stage3_1_blocks_5_conv2_bn_bias, ema_detector_backbone_stage3_1_blocks_5_conv2_bn_running_mean, ema_detector_backbone_stage3_1_blocks_5_conv2_bn_running_var, ema_detector_backbone_stage3_1_blocks_5_conv2_bn_num_batches_tracked, ema_detector_backbone_stage3_1_blocks_6_conv1_conv_weight, ema_detector_backbone_stage3_1_blocks_6_conv1_bn_weight, ema_detector_backbone_stage3_1_blocks_6_conv1_bn_bias, ema_detector_backbone_stage3_1_blocks_6_conv1_bn_running_mean, ema_detector_backbone_stage3_1_blocks_6_conv1_bn_running_var, ema_detector_backbone_stage3_1_blocks_6_conv1_bn_num_batches_tracked, ema_detector_backbone_stage3_1_blocks_6_conv2_conv_weight, ema_detector_backbone_stage3_1_blocks_6_conv2_bn_weight, ema_detector_backbone_stage3_1_blocks_6_conv2_bn_bias, ema_detector_backbone_stage3_1_blocks_6_conv2_bn_running_mean, ema_detector_backbone_stage3_1_blocks_6_conv2_bn_running_var, ema_detector_backbone_stage3_1_blocks_6_conv2_bn_num_batches_tracked, ema_detector_backbone_stage3_1_blocks_7_conv1_conv_weight, ema_detector_backbone_stage3_1_blocks_7_conv1_bn_weight, ema_detector_backbone_stage3_1_blocks_7_conv1_bn_bias, ema_detector_backbone_stage3_1_blocks_7_conv1_bn_running_mean, ema_detector_backbone_stage3_1_blocks_7_conv1_bn_running_var, ema_detector_backbone_stage3_1_blocks_7_conv1_bn_num_batches_tracked, ema_detector_backbone_stage3_1_blocks_7_conv2_conv_weight, ema_detector_backbone_stage3_1_blocks_7_conv2_bn_weight, ema_detector_backbone_stage3_1_blocks_7_conv2_bn_bias, ema_detector_backbone_stage3_1_blocks_7_conv2_bn_running_mean, ema_detector_backbone_stage3_1_blocks_7_conv2_bn_running_var, ema_detector_backbone_stage3_1_blocks_7_conv2_bn_num_batches_tracked, ema_detector_backbone_stage3_1_blocks_8_conv1_conv_weight, ema_detector_backbone_stage3_1_blocks_8_conv1_bn_weight, ema_detector_backbone_stage3_1_blocks_8_conv1_bn_bias, ema_detector_backbone_stage3_1_blocks_8_conv1_bn_running_mean, ema_detector_backbone_stage3_1_blocks_8_conv1_bn_running_var, ema_detector_backbone_stage3_1_blocks_8_conv1_bn_num_batches_tracked, ema_detector_backbone_stage3_1_blocks_8_conv2_conv_weight, ema_detector_backbone_stage3_1_blocks_8_conv2_bn_weight, ema_detector_backbone_stage3_1_blocks_8_conv2_bn_bias, ema_detector_backbone_stage3_1_blocks_8_conv2_bn_running_mean, ema_detector_backbone_stage3_1_blocks_8_conv2_bn_running_var, ema_detector_backbone_stage3_1_blocks_8_conv2_bn_num_batches_tracked, ema_detector_backbone_stage3_1_blocks_9_conv1_conv_weight, ema_detector_backbone_stage3_1_blocks_9_conv1_bn_weight, ema_detector_backbone_stage3_1_blocks_9_conv1_bn_bias, ema_detector_backbone_stage3_1_blocks_9_conv1_bn_running_mean, ema_detector_backbone_stage3_1_blocks_9_conv1_bn_running_var, ema_detector_backbone_stage3_1_blocks_9_conv1_bn_num_batches_tracked, ema_detector_backbone_stage3_1_blocks_9_conv2_conv_weight, ema_detector_backbone_stage3_1_blocks_9_conv2_bn_weight, ema_detector_backbone_stage3_1_blocks_9_conv2_bn_bias, ema_detector_backbone_stage3_1_blocks_9_conv2_bn_running_mean, ema_detector_backbone_stage3_1_blocks_9_conv2_bn_running_var, ema_detector_backbone_stage3_1_blocks_9_conv2_bn_num_batches_tracked, ema_detector_backbone_stage3_1_blocks_10_conv1_conv_weight, ema_detector_backbone_stage3_1_blocks_10_conv1_bn_weight, ema_detector_backbone_stage3_1_blocks_10_conv1_bn_bias, ema_detector_backbone_stage3_1_blocks_10_conv1_bn_running_mean, ema_detector_backbone_stage3_1_blocks_10_conv1_bn_running_var, ema_detector_backbone_stage3_1_blocks_10_conv1_bn_num_batches_tracked, ema_detector_backbone_stage3_1_blocks_10_conv2_conv_weight, ema_detector_backbone_stage3_1_blocks_10_conv2_bn_weight, ema_detector_backbone_stage3_1_blocks_10_conv2_bn_bias, ema_detector_backbone_stage3_1_blocks_10_conv2_bn_running_mean, ema_detector_backbone_stage3_1_blocks_10_conv2_bn_running_var, ema_detector_backbone_stage3_1_blocks_10_conv2_bn_num_batches_tracked, ema_detector_backbone_stage3_1_blocks_11_conv1_conv_weight, ema_detector_backbone_stage3_1_blocks_11_conv1_bn_weight, ema_detector_backbone_stage3_1_blocks_11_conv1_bn_bias, ema_detector_backbone_stage3_1_blocks_11_conv1_bn_running_mean, ema_detector_backbone_stage3_1_blocks_11_conv1_bn_running_var, ema_detector_backbone_stage3_1_blocks_11_conv1_bn_num_batches_tracked, ema_detector_backbone_stage3_1_blocks_11_conv2_conv_weight, ema_detector_backbone_stage3_1_blocks_11_conv2_bn_weight, ema_detector_backbone_stage3_1_blocks_11_conv2_bn_bias, ema_detector_backbone_stage3_1_blocks_11_conv2_bn_running_mean, ema_detector_backbone_stage3_1_blocks_11_conv2_bn_running_var, ema_detector_backbone_stage3_1_blocks_11_conv2_bn_num_batches_tracked, ema_detector_backbone_stage4_0_conv_weight, ema_detector_backbone_stage4_0_bn_weight, ema_detector_backbone_stage4_0_bn_bias, ema_detector_backbone_stage4_0_bn_running_mean, ema_detector_backbone_stage4_0_bn_running_var, ema_detector_backbone_stage4_0_bn_num_batches_tracked, ema_detector_backbone_stage4_1_conv1_conv_weight, ema_detector_backbone_stage4_1_conv1_bn_weight, ema_detector_backbone_stage4_1_conv1_bn_bias, ema_detector_backbone_stage4_1_conv1_bn_running_mean, ema_detector_backbone_stage4_1_conv1_bn_running_var, ema_detector_backbone_stage4_1_conv1_bn_num_batches_tracked, ema_detector_backbone_stage4_1_conv2_conv_weight, ema_detector_backbone_stage4_1_conv2_bn_weight, ema_detector_backbone_stage4_1_conv2_bn_bias, ema_detector_backbone_stage4_1_conv2_bn_running_mean, ema_detector_backbone_stage4_1_conv2_bn_running_var, ema_detector_backbone_stage4_1_conv2_bn_num_batches_tracked, ema_detector_backbone_stage4_2_main_conv_conv_weight, ema_detector_backbone_stage4_2_main_conv_bn_weight, ema_detector_backbone_stage4_2_main_conv_bn_bias, ema_detector_backbone_stage4_2_main_conv_bn_running_mean, ema_detector_backbone_stage4_2_main_conv_bn_running_var, ema_detector_backbone_stage4_2_main_conv_bn_num_batches_tracked, ema_detector_backbone_stage4_2_short_conv_conv_weight, ema_detector_backbone_stage4_2_short_conv_bn_weight, ema_detector_backbone_stage4_2_short_conv_bn_bias, ema_detector_backbone_stage4_2_short_conv_bn_running_mean, ema_detector_backbone_stage4_2_short_conv_bn_running_var, ema_detector_backbone_stage4_2_short_conv_bn_num_batches_tracked, ema_detector_backbone_stage4_2_final_conv_conv_weight, ema_detector_backbone_stage4_2_final_conv_bn_weight, ema_detector_backbone_stage4_2_final_conv_bn_bias, ema_detector_backbone_stage4_2_final_conv_bn_running_mean, ema_detector_backbone_stage4_2_final_conv_bn_running_var, ema_detector_backbone_stage4_2_final_conv_bn_num_batches_tracked, ema_detector_backbone_stage4_2_blocks_0_conv1_conv_weight, ema_detector_backbone_stage4_2_blocks_0_conv1_bn_weight, ema_detector_backbone_stage4_2_blocks_0_conv1_bn_bias, ema_detector_backbone_stage4_2_blocks_0_conv1_bn_running_mean, ema_detector_backbone_stage4_2_blocks_0_conv1_bn_running_var, ema_detector_backbone_stage4_2_blocks_0_conv1_bn_num_batches_tracked, ema_detector_backbone_stage4_2_blocks_0_conv2_conv_weight, ema_detector_backbone_stage4_2_blocks_0_conv2_bn_weight, ema_detector_backbone_stage4_2_blocks_0_conv2_bn_bias, ema_detector_backbone_stage4_2_blocks_0_conv2_bn_running_mean, ema_detector_backbone_stage4_2_blocks_0_conv2_bn_running_var, ema_detector_backbone_stage4_2_blocks_0_conv2_bn_num_batches_tracked, ema_detector_backbone_stage4_2_blocks_1_conv1_conv_weight, ema_detector_backbone_stage4_2_blocks_1_conv1_bn_weight, ema_detector_backbone_stage4_2_blocks_1_conv1_bn_bias, ema_detector_backbone_stage4_2_blocks_1_conv1_bn_running_mean, ema_detector_backbone_stage4_2_blocks_1_conv1_bn_running_var, ema_detector_backbone_stage4_2_blocks_1_conv1_bn_num_batches_tracked, ema_detector_backbone_stage4_2_blocks_1_conv2_conv_weight, ema_detector_backbone_stage4_2_blocks_1_conv2_bn_weight, ema_detector_backbone_stage4_2_blocks_1_conv2_bn_bias, ema_detector_backbone_stage4_2_blocks_1_conv2_bn_running_mean, ema_detector_backbone_stage4_2_blocks_1_conv2_bn_running_var, ema_detector_backbone_stage4_2_blocks_1_conv2_bn_num_batches_tracked, ema_detector_backbone_stage4_2_blocks_2_conv1_conv_weight, ema_detector_backbone_stage4_2_blocks_2_conv1_bn_weight, ema_detector_backbone_stage4_2_blocks_2_conv1_bn_bias, ema_detector_backbone_stage4_2_blocks_2_conv1_bn_running_mean, ema_detector_backbone_stage4_2_blocks_2_conv1_bn_running_var, ema_detector_backbone_stage4_2_blocks_2_conv1_bn_num_batches_tracked, ema_detector_backbone_stage4_2_blocks_2_conv2_conv_weight, ema_detector_backbone_stage4_2_blocks_2_conv2_bn_weight, ema_detector_backbone_stage4_2_blocks_2_conv2_bn_bias, ema_detector_backbone_stage4_2_blocks_2_conv2_bn_running_mean, ema_detector_backbone_stage4_2_blocks_2_conv2_bn_running_var, ema_detector_backbone_stage4_2_blocks_2_conv2_bn_num_batches_tracked, ema_detector_backbone_stage4_2_blocks_3_conv1_conv_weight, ema_detector_backbone_stage4_2_blocks_3_conv1_bn_weight, ema_detector_backbone_stage4_2_blocks_3_conv1_bn_bias, ema_detector_backbone_stage4_2_blocks_3_conv1_bn_running_mean, ema_detector_backbone_stage4_2_blocks_3_conv1_bn_running_var, ema_detector_backbone_stage4_2_blocks_3_conv1_bn_num_batches_tracked, ema_detector_backbone_stage4_2_blocks_3_conv2_conv_weight, ema_detector_backbone_stage4_2_blocks_3_conv2_bn_weight, ema_detector_backbone_stage4_2_blocks_3_conv2_bn_bias, ema_detector_backbone_stage4_2_blocks_3_conv2_bn_running_mean, ema_detector_backbone_stage4_2_blocks_3_conv2_bn_running_var, ema_detector_backbone_stage4_2_blocks_3_conv2_bn_num_batches_tracked, ema_detector_neck_reduce_layers_0_conv_weight, ema_detector_neck_reduce_layers_0_bn_weight, ema_detector_neck_reduce_layers_0_bn_bias, ema_detector_neck_reduce_layers_0_bn_running_mean, ema_detector_neck_reduce_layers_0_bn_running_var, ema_detector_neck_reduce_layers_0_bn_num_batches_tracked, ema_detector_neck_reduce_layers_1_conv_weight, ema_detector_neck_reduce_layers_1_bn_weight, ema_detector_neck_reduce_layers_1_bn_bias, ema_detector_neck_reduce_layers_1_bn_running_mean, ema_detector_neck_reduce_layers_1_bn_running_var, ema_detector_neck_reduce_layers_1_bn_num_batches_tracked, ema_detector_neck_top_down_blocks_0_main_conv_conv_weight, ema_detector_neck_top_down_blocks_0_main_conv_bn_weight, ema_detector_neck_top_down_blocks_0_main_conv_bn_bias, ema_detector_neck_top_down_blocks_0_main_conv_bn_running_mean, ema_detector_neck_top_down_blocks_0_main_conv_bn_running_var, ema_detector_neck_top_down_blocks_0_main_conv_bn_num_batches_tracked, ema_detector_neck_top_down_blocks_0_short_conv_conv_weight, ema_detector_neck_top_down_blocks_0_short_conv_bn_weight, ema_detector_neck_top_down_blocks_0_short_conv_bn_bias, ema_detector_neck_top_down_blocks_0_short_conv_bn_running_mean, ema_detector_neck_top_down_blocks_0_short_conv_bn_running_var, ema_detector_neck_top_down_blocks_0_short_conv_bn_num_batches_tracked, ema_detector_neck_top_down_blocks_0_final_conv_conv_weight, ema_detector_neck_top_down_blocks_0_final_conv_bn_weight, ema_detector_neck_top_down_blocks_0_final_conv_bn_bias, ema_detector_neck_top_down_blocks_0_final_conv_bn_running_mean, ema_detector_neck_top_down_blocks_0_final_conv_bn_running_var, ema_detector_neck_top_down_blocks_0_final_conv_bn_num_batches_tracked, ema_detector_neck_top_down_blocks_0_blocks_0_conv1_conv_weight, ema_detector_neck_top_down_blocks_0_blocks_0_conv1_bn_weight, ema_detector_neck_top_down_blocks_0_blocks_0_conv1_bn_bias, ema_detector_neck_top_down_blocks_0_blocks_0_conv1_bn_running_mean, ema_detector_neck_top_down_blocks_0_blocks_0_conv1_bn_running_var, ema_detector_neck_top_down_blocks_0_blocks_0_conv1_bn_num_batches_tracked, ema_detector_neck_top_down_blocks_0_blocks_0_conv2_conv_weight, ema_detector_neck_top_down_blocks_0_blocks_0_conv2_bn_weight, ema_detector_neck_top_down_blocks_0_blocks_0_conv2_bn_bias, ema_detector_neck_top_down_blocks_0_blocks_0_conv2_bn_running_mean, ema_detector_neck_top_down_blocks_0_blocks_0_conv2_bn_running_var, ema_detector_neck_top_down_blocks_0_blocks_0_conv2_bn_num_batches_tracked, ema_detector_neck_top_down_blocks_0_blocks_1_conv1_conv_weight, ema_detector_neck_top_down_blocks_0_blocks_1_conv1_bn_weight, ema_detector_neck_top_down_blocks_0_blocks_1_conv1_bn_bias, ema_detector_neck_top_down_blocks_0_blocks_1_conv1_bn_running_mean, ema_detector_neck_top_down_blocks_0_blocks_1_conv1_bn_running_var, ema_detector_neck_top_down_blocks_0_blocks_1_conv1_bn_num_batches_tracked, ema_detector_neck_top_down_blocks_0_blocks_1_conv2_conv_weight, ema_detector_neck_top_down_blocks_0_blocks_1_conv2_bn_weight, ema_detector_neck_top_down_blocks_0_blocks_1_conv2_bn_bias, ema_detector_neck_top_down_blocks_0_blocks_1_conv2_bn_running_mean, ema_detector_neck_top_down_blocks_0_blocks_1_conv2_bn_running_var, ema_detector_neck_top_down_blocks_0_blocks_1_conv2_bn_num_batches_tracked, ema_detector_neck_top_down_blocks_0_blocks_2_conv1_conv_weight, ema_detector_neck_top_down_blocks_0_blocks_2_conv1_bn_weight, ema_detector_neck_top_down_blocks_0_blocks_2_conv1_bn_bias, ema_detector_neck_top_down_blocks_0_blocks_2_conv1_bn_running_mean, ema_detector_neck_top_down_blocks_0_blocks_2_conv1_bn_running_var, ema_detector_neck_top_down_blocks_0_blocks_2_conv1_bn_num_batches_tracked, ema_detector_neck_top_down_blocks_0_blocks_2_conv2_conv_weight, ema_detector_neck_top_down_blocks_0_blocks_2_conv2_bn_weight, ema_detector_neck_top_down_blocks_0_blocks_2_conv2_bn_bias, ema_detector_neck_top_down_blocks_0_blocks_2_conv2_bn_running_mean, ema_detector_neck_top_down_blocks_0_blocks_2_conv2_bn_running_var, ema_detector_neck_top_down_blocks_0_blocks_2_conv2_bn_num_batches_tracked, ema_detector_neck_top_down_blocks_0_blocks_3_conv1_conv_weight, ema_detector_neck_top_down_blocks_0_blocks_3_conv1_bn_weight, ema_detector_neck_top_down_blocks_0_blocks_3_conv1_bn_bias, ema_detector_neck_top_down_blocks_0_blocks_3_conv1_bn_running_mean, ema_detector_neck_top_down_blocks_0_blocks_3_conv1_bn_running_var, ema_detector_neck_top_down_blocks_0_blocks_3_conv1_bn_num_batches_tracked, ema_detector_neck_top_down_blocks_0_blocks_3_conv2_conv_weight, ema_detector_neck_top_down_blocks_0_blocks_3_conv2_bn_weight, ema_detector_neck_top_down_blocks_0_blocks_3_conv2_bn_bias, ema_detector_neck_top_down_blocks_0_blocks_3_conv2_bn_running_mean, ema_detector_neck_top_down_blocks_0_blocks_3_conv2_bn_running_var, ema_detector_neck_top_down_blocks_0_blocks_3_conv2_bn_num_batches_tracked, ema_detector_neck_top_down_blocks_1_main_conv_conv_weight, ema_detector_neck_top_down_blocks_1_main_conv_bn_weight, ema_detector_neck_top_down_blocks_1_main_conv_bn_bias, ema_detector_neck_top_down_blocks_1_main_conv_bn_running_mean, ema_detector_neck_top_down_blocks_1_main_conv_bn_running_var, ema_detector_neck_top_down_blocks_1_main_conv_bn_num_batches_tracked, ema_detector_neck_top_down_blocks_1_short_conv_conv_weight, ema_detector_neck_top_down_blocks_1_short_conv_bn_weight, ema_detector_neck_top_down_blocks_1_short_conv_bn_bias, ema_detector_neck_top_down_blocks_1_short_conv_bn_running_mean, ema_detector_neck_top_down_blocks_1_short_conv_bn_running_var, ema_detector_neck_top_down_blocks_1_short_conv_bn_num_batches_tracked, ema_detector_neck_top_down_blocks_1_final_conv_conv_weight, ema_detector_neck_top_down_blocks_1_final_conv_bn_weight, ema_detector_neck_top_down_blocks_1_final_conv_bn_bias, ema_detector_neck_top_down_blocks_1_final_conv_bn_running_mean, ema_detector_neck_top_down_blocks_1_final_conv_bn_running_var, ema_detector_neck_top_down_blocks_1_final_conv_bn_num_batches_tracked, ema_detector_neck_top_down_blocks_1_blocks_0_conv1_conv_weight, ema_detector_neck_top_down_blocks_1_blocks_0_conv1_bn_weight, ema_detector_neck_top_down_blocks_1_blocks_0_conv1_bn_bias, ema_detector_neck_top_down_blocks_1_blocks_0_conv1_bn_running_mean, ema_detector_neck_top_down_blocks_1_blocks_0_conv1_bn_running_var, ema_detector_neck_top_down_blocks_1_blocks_0_conv1_bn_num_batches_tracked, ema_detector_neck_top_down_blocks_1_blocks_0_conv2_conv_weight, ema_detector_neck_top_down_blocks_1_blocks_0_conv2_bn_weight, ema_detector_neck_top_down_blocks_1_blocks_0_conv2_bn_bias, ema_detector_neck_top_down_blocks_1_blocks_0_conv2_bn_running_mean, ema_detector_neck_top_down_blocks_1_blocks_0_conv2_bn_running_var, ema_detector_neck_top_down_blocks_1_blocks_0_conv2_bn_num_batches_tracked, ema_detector_neck_top_down_blocks_1_blocks_1_conv1_conv_weight, ema_detector_neck_top_down_blocks_1_blocks_1_conv1_bn_weight, ema_detector_neck_top_down_blocks_1_blocks_1_conv1_bn_bias, ema_detector_neck_top_down_blocks_1_blocks_1_conv1_bn_running_mean, ema_detector_neck_top_down_blocks_1_blocks_1_conv1_bn_running_var, ema_detector_neck_top_down_blocks_1_blocks_1_conv1_bn_num_batches_tracked, ema_detector_neck_top_down_blocks_1_blocks_1_conv2_conv_weight, ema_detector_neck_top_down_blocks_1_blocks_1_conv2_bn_weight, ema_detector_neck_top_down_blocks_1_blocks_1_conv2_bn_bias, ema_detector_neck_top_down_blocks_1_blocks_1_conv2_bn_running_mean, ema_detector_neck_top_down_blocks_1_blocks_1_conv2_bn_running_var, ema_detector_neck_top_down_blocks_1_blocks_1_conv2_bn_num_batches_tracked, ema_detector_neck_top_down_blocks_1_blocks_2_conv1_conv_weight, ema_detector_neck_top_down_blocks_1_blocks_2_conv1_bn_weight, ema_detector_neck_top_down_blocks_1_blocks_2_conv1_bn_bias, ema_detector_neck_top_down_blocks_1_blocks_2_conv1_bn_running_mean, ema_detector_neck_top_down_blocks_1_blocks_2_conv1_bn_running_var, ema_detector_neck_top_down_blocks_1_blocks_2_conv1_bn_num_batches_tracked, ema_detector_neck_top_down_blocks_1_blocks_2_conv2_conv_weight, ema_detector_neck_top_down_blocks_1_blocks_2_conv2_bn_weight, ema_detector_neck_top_down_blocks_1_blocks_2_conv2_bn_bias, ema_detector_neck_top_down_blocks_1_blocks_2_conv2_bn_running_mean, ema_detector_neck_top_down_blocks_1_blocks_2_conv2_bn_running_var, ema_detector_neck_top_down_blocks_1_blocks_2_conv2_bn_num_batches_tracked, ema_detector_neck_top_down_blocks_1_blocks_3_conv1_conv_weight, ema_detector_neck_top_down_blocks_1_blocks_3_conv1_bn_weight, ema_detector_neck_top_down_blocks_1_blocks_3_conv1_bn_bias, ema_detector_neck_top_down_blocks_1_blocks_3_conv1_bn_running_mean, ema_detector_neck_top_down_blocks_1_blocks_3_conv1_bn_running_var, ema_detector_neck_top_down_blocks_1_blocks_3_conv1_bn_num_batches_tracked, ema_detector_neck_top_down_blocks_1_blocks_3_conv2_conv_weight, ema_detector_neck_top_down_blocks_1_blocks_3_conv2_bn_weight, ema_detector_neck_top_down_blocks_1_blocks_3_conv2_bn_bias, ema_detector_neck_top_down_blocks_1_blocks_3_conv2_bn_running_mean, ema_detector_neck_top_down_blocks_1_blocks_3_conv2_bn_running_var, ema_detector_neck_top_down_blocks_1_blocks_3_conv2_bn_num_batches_tracked, ema_detector_neck_downsamples_0_conv_weight, ema_detector_neck_downsamples_0_bn_weight, ema_detector_neck_downsamples_0_bn_bias, ema_detector_neck_downsamples_0_bn_running_mean, ema_detector_neck_downsamples_0_bn_running_var, ema_detector_neck_downsamples_0_bn_num_batches_tracked, ema_detector_neck_downsamples_1_conv_weight, ema_detector_neck_downsamples_1_bn_weight, ema_detector_neck_downsamples_1_bn_bias, ema_detector_neck_downsamples_1_bn_running_mean, ema_detector_neck_downsamples_1_bn_running_var, ema_detector_neck_downsamples_1_bn_num_batches_tracked, ema_detector_neck_bottom_up_blocks_0_main_conv_conv_weight, ema_detector_neck_bottom_up_blocks_0_main_conv_bn_weight, ema_detector_neck_bottom_up_blocks_0_main_conv_bn_bias, ema_detector_neck_bottom_up_blocks_0_main_conv_bn_running_mean, ema_detector_neck_bottom_up_blocks_0_main_conv_bn_running_var, ema_detector_neck_bottom_up_blocks_0_main_conv_bn_num_batches_tracked, ema_detector_neck_bottom_up_blocks_0_short_conv_conv_weight, ema_detector_neck_bottom_up_blocks_0_short_conv_bn_weight, ema_detector_neck_bottom_up_blocks_0_short_conv_bn_bias, ema_detector_neck_bottom_up_blocks_0_short_conv_bn_running_mean, ema_detector_neck_bottom_up_blocks_0_short_conv_bn_running_var, ema_detector_neck_bottom_up_blocks_0_short_conv_bn_num_batches_tracked, ema_detector_neck_bottom_up_blocks_0_final_conv_conv_weight, ema_detector_neck_bottom_up_blocks_0_final_conv_bn_weight, ema_detector_neck_bottom_up_blocks_0_final_conv_bn_bias, ema_detector_neck_bottom_up_blocks_0_final_conv_bn_running_mean, ema_detector_neck_bottom_up_blocks_0_final_conv_bn_running_var, ema_detector_neck_bottom_up_blocks_0_final_conv_bn_num_batches_tracked, ema_detector_neck_bottom_up_blocks_0_blocks_0_conv1_conv_weight, ema_detector_neck_bottom_up_blocks_0_blocks_0_conv1_bn_weight, ema_detector_neck_bottom_up_blocks_0_blocks_0_conv1_bn_bias, ema_detector_neck_bottom_up_blocks_0_blocks_0_conv1_bn_running_mean, ema_detector_neck_bottom_up_blocks_0_blocks_0_conv1_bn_running_var, ema_detector_neck_bottom_up_blocks_0_blocks_0_conv1_bn_num_batches_tracked, ema_detector_neck_bottom_up_blocks_0_blocks_0_conv2_conv_weight, ema_detector_neck_bottom_up_blocks_0_blocks_0_conv2_bn_weight, ema_detector_neck_bottom_up_blocks_0_blocks_0_conv2_bn_bias, ema_detector_neck_bottom_up_blocks_0_blocks_0_conv2_bn_running_mean, ema_detector_neck_bottom_up_blocks_0_blocks_0_conv2_bn_running_var, ema_detector_neck_bottom_up_blocks_0_blocks_0_conv2_bn_num_batches_tracked, ema_detector_neck_bottom_up_blocks_0_blocks_1_conv1_conv_weight, ema_detector_neck_bottom_up_blocks_0_blocks_1_conv1_bn_weight, ema_detector_neck_bottom_up_blocks_0_blocks_1_conv1_bn_bias, ema_detector_neck_bottom_up_blocks_0_blocks_1_conv1_bn_running_mean, ema_detector_neck_bottom_up_blocks_0_blocks_1_conv1_bn_running_var, ema_detector_neck_bottom_up_blocks_0_blocks_1_conv1_bn_num_batches_tracked, ema_detector_neck_bottom_up_blocks_0_blocks_1_conv2_conv_weight, ema_detector_neck_bottom_up_blocks_0_blocks_1_conv2_bn_weight, ema_detector_neck_bottom_up_blocks_0_blocks_1_conv2_bn_bias, ema_detector_neck_bottom_up_blocks_0_blocks_1_conv2_bn_running_mean, ema_detector_neck_bottom_up_blocks_0_blocks_1_conv2_bn_running_var, ema_detector_neck_bottom_up_blocks_0_blocks_1_conv2_bn_num_batches_tracked, ema_detector_neck_bottom_up_blocks_0_blocks_2_conv1_conv_weight, ema_detector_neck_bottom_up_blocks_0_blocks_2_conv1_bn_weight, ema_detector_neck_bottom_up_blocks_0_blocks_2_conv1_bn_bias, ema_detector_neck_bottom_up_blocks_0_blocks_2_conv1_bn_running_mean, ema_detector_neck_bottom_up_blocks_0_blocks_2_conv1_bn_running_var, ema_detector_neck_bottom_up_blocks_0_blocks_2_conv1_bn_num_batches_tracked, ema_detector_neck_bottom_up_blocks_0_blocks_2_conv2_conv_weight, ema_detector_neck_bottom_up_blocks_0_blocks_2_conv2_bn_weight, ema_detector_neck_bottom_up_blocks_0_blocks_2_conv2_bn_bias, ema_detector_neck_bottom_up_blocks_0_blocks_2_conv2_bn_running_mean, ema_detector_neck_bottom_up_blocks_0_blocks_2_conv2_bn_running_var, ema_detector_neck_bottom_up_blocks_0_blocks_2_conv2_bn_num_batches_tracked, ema_detector_neck_bottom_up_blocks_0_blocks_3_conv1_conv_weight, ema_detector_neck_bottom_up_blocks_0_blocks_3_conv1_bn_weight, ema_detector_neck_bottom_up_blocks_0_blocks_3_conv1_bn_bias, ema_detector_neck_bottom_up_blocks_0_blocks_3_conv1_bn_running_mean, ema_detector_neck_bottom_up_blocks_0_blocks_3_conv1_bn_running_var, ema_detector_neck_bottom_up_blocks_0_blocks_3_conv1_bn_num_batches_tracked, ema_detector_neck_bottom_up_blocks_0_blocks_3_conv2_conv_weight, ema_detector_neck_bottom_up_blocks_0_blocks_3_conv2_bn_weight, ema_detector_neck_bottom_up_blocks_0_blocks_3_conv2_bn_bias, ema_detector_neck_bottom_up_blocks_0_blocks_3_conv2_bn_running_mean, ema_detector_neck_bottom_up_blocks_0_blocks_3_conv2_bn_running_var, ema_detector_neck_bottom_up_blocks_0_blocks_3_conv2_bn_num_batches_tracked, ema_detector_neck_bottom_up_blocks_1_main_conv_conv_weight, ema_detector_neck_bottom_up_blocks_1_main_conv_bn_weight, ema_detector_neck_bottom_up_blocks_1_main_conv_bn_bias, ema_detector_neck_bottom_up_blocks_1_main_conv_bn_running_mean, ema_detector_neck_bottom_up_blocks_1_main_conv_bn_running_var, ema_detector_neck_bottom_up_blocks_1_main_conv_bn_num_batches_tracked, ema_detector_neck_bottom_up_blocks_1_short_conv_conv_weight, ema_detector_neck_bottom_up_blocks_1_short_conv_bn_weight, ema_detector_neck_bottom_up_blocks_1_short_conv_bn_bias, ema_detector_neck_bottom_up_blocks_1_short_conv_bn_running_mean, ema_detector_neck_bottom_up_blocks_1_short_conv_bn_running_var, ema_detector_neck_bottom_up_blocks_1_short_conv_bn_num_batches_tracked, ema_detector_neck_bottom_up_blocks_1_final_conv_conv_weight, ema_detector_neck_bottom_up_blocks_1_final_conv_bn_weight, ema_detector_neck_bottom_up_blocks_1_final_conv_bn_bias, ema_detector_neck_bottom_up_blocks_1_final_conv_bn_running_mean, ema_detector_neck_bottom_up_blocks_1_final_conv_bn_running_var, ema_detector_neck_bottom_up_blocks_1_final_conv_bn_num_batches_tracked, ema_detector_neck_bottom_up_blocks_1_blocks_0_conv1_conv_weight, ema_detector_neck_bottom_up_blocks_1_blocks_0_conv1_bn_weight, ema_detector_neck_bottom_up_blocks_1_blocks_0_conv1_bn_bias, ema_detector_neck_bottom_up_blocks_1_blocks_0_conv1_bn_running_mean, ema_detector_neck_bottom_up_blocks_1_blocks_0_conv1_bn_running_var, ema_detector_neck_bottom_up_blocks_1_blocks_0_conv1_bn_num_batches_tracked, ema_detector_neck_bottom_up_blocks_1_blocks_0_conv2_conv_weight, ema_detector_neck_bottom_up_blocks_1_blocks_0_conv2_bn_weight, ema_detector_neck_bottom_up_blocks_1_blocks_0_conv2_bn_bias, ema_detector_neck_bottom_up_blocks_1_blocks_0_conv2_bn_running_mean, ema_detector_neck_bottom_up_blocks_1_blocks_0_conv2_bn_running_var, ema_detector_neck_bottom_up_blocks_1_blocks_0_conv2_bn_num_batches_tracked, ema_detector_neck_bottom_up_blocks_1_blocks_1_conv1_conv_weight, ema_detector_neck_bottom_up_blocks_1_blocks_1_conv1_bn_weight, ema_detector_neck_bottom_up_blocks_1_blocks_1_conv1_bn_bias, ema_detector_neck_bottom_up_blocks_1_blocks_1_conv1_bn_running_mean, ema_detector_neck_bottom_up_blocks_1_blocks_1_conv1_bn_running_var, ema_detector_neck_bottom_up_blocks_1_blocks_1_conv1_bn_num_batches_tracked, ema_detector_neck_bottom_up_blocks_1_blocks_1_conv2_conv_weight, ema_detector_neck_bottom_up_blocks_1_blocks_1_conv2_bn_weight, ema_detector_neck_bottom_up_blocks_1_blocks_1_conv2_bn_bias, ema_detector_neck_bottom_up_blocks_1_blocks_1_conv2_bn_running_mean, ema_detector_neck_bottom_up_blocks_1_blocks_1_conv2_bn_running_var, ema_detector_neck_bottom_up_blocks_1_blocks_1_conv2_bn_num_batches_tracked, ema_detector_neck_bottom_up_blocks_1_blocks_2_conv1_conv_weight, ema_detector_neck_bottom_up_blocks_1_blocks_2_conv1_bn_weight, ema_detector_neck_bottom_up_blocks_1_blocks_2_conv1_bn_bias, ema_detector_neck_bottom_up_blocks_1_blocks_2_conv1_bn_running_mean, ema_detector_neck_bottom_up_blocks_1_blocks_2_conv1_bn_running_var, ema_detector_neck_bottom_up_blocks_1_blocks_2_conv1_bn_num_batches_tracked, ema_detector_neck_bottom_up_blocks_1_blocks_2_conv2_conv_weight, ema_detector_neck_bottom_up_blocks_1_blocks_2_conv2_bn_weight, ema_detector_neck_bottom_up_blocks_1_blocks_2_conv2_bn_bias, ema_detector_neck_bottom_up_blocks_1_blocks_2_conv2_bn_running_mean, ema_detector_neck_bottom_up_blocks_1_blocks_2_conv2_bn_running_var, ema_detector_neck_bottom_up_blocks_1_blocks_2_conv2_bn_num_batches_tracked, ema_detector_neck_bottom_up_blocks_1_blocks_3_conv1_conv_weight, ema_detector_neck_bottom_up_blocks_1_blocks_3_conv1_bn_weight, ema_detector_neck_bottom_up_blocks_1_blocks_3_conv1_bn_bias, ema_detector_neck_bottom_up_blocks_1_blocks_3_conv1_bn_running_mean, ema_detector_neck_bottom_up_blocks_1_blocks_3_conv1_bn_running_var, ema_detector_neck_bottom_up_blocks_1_blocks_3_conv1_bn_num_batches_tracked, ema_detector_neck_bottom_up_blocks_1_blocks_3_conv2_conv_weight, ema_detector_neck_bottom_up_blocks_1_blocks_3_conv2_bn_weight, ema_detector_neck_bottom_up_blocks_1_blocks_3_conv2_bn_bias, ema_detector_neck_bottom_up_blocks_1_blocks_3_conv2_bn_running_mean, ema_detector_neck_bottom_up_blocks_1_blocks_3_conv2_bn_running_var, ema_detector_neck_bottom_up_blocks_1_blocks_3_conv2_bn_num_batches_tracked, ema_detector_neck_out_convs_0_conv_weight, ema_detector_neck_out_convs_0_bn_weight, ema_detector_neck_out_convs_0_bn_bias, ema_detector_neck_out_convs_0_bn_running_mean, ema_detector_neck_out_convs_0_bn_running_var, ema_detector_neck_out_convs_0_bn_num_batches_tracked, ema_detector_neck_out_convs_1_conv_weight, ema_detector_neck_out_convs_1_bn_weight, ema_detector_neck_out_convs_1_bn_bias, ema_detector_neck_out_convs_1_bn_running_mean, ema_detector_neck_out_convs_1_bn_running_var, ema_detector_neck_out_convs_1_bn_num_batches_tracked, ema_detector_neck_out_convs_2_conv_weight, ema_detector_neck_out_convs_2_bn_weight, ema_detector_neck_out_convs_2_bn_bias, ema_detector_neck_out_convs_2_bn_running_mean, ema_detector_neck_out_convs_2_bn_running_var, ema_detector_neck_out_convs_2_bn_num_batches_tracked, ema_detector_bbox_head_multi_level_cls_convs_0_0_conv_weight, ema_detector_bbox_head_multi_level_cls_convs_0_0_bn_weight, ema_detector_bbox_head_multi_level_cls_convs_0_0_bn_bias, ema_detector_bbox_head_multi_level_cls_convs_0_0_bn_running_mean, ema_detector_bbox_head_multi_level_cls_convs_0_0_bn_running_var, ema_detector_bbox_head_multi_level_cls_convs_0_0_bn_num_batches_tracked, ema_detector_bbox_head_multi_level_cls_convs_0_1_conv_weight, ema_detector_bbox_head_multi_level_cls_convs_0_1_bn_weight, ema_detector_bbox_head_multi_level_cls_convs_0_1_bn_bias, ema_detector_bbox_head_multi_level_cls_convs_0_1_bn_running_mean, ema_detector_bbox_head_multi_level_cls_convs_0_1_bn_running_var, ema_detector_bbox_head_multi_level_cls_convs_0_1_bn_num_batches_tracked, ema_detector_bbox_head_multi_level_cls_convs_1_0_conv_weight, ema_detector_bbox_head_multi_level_cls_convs_1_0_bn_weight, ema_detector_bbox_head_multi_level_cls_convs_1_0_bn_bias, ema_detector_bbox_head_multi_level_cls_convs_1_0_bn_running_mean, ema_detector_bbox_head_multi_level_cls_convs_1_0_bn_running_var, ema_detector_bbox_head_multi_level_cls_convs_1_0_bn_num_batches_tracked, ema_detector_bbox_head_multi_level_cls_convs_1_1_conv_weight, ema_detector_bbox_head_multi_level_cls_convs_1_1_bn_weight, ema_detector_bbox_head_multi_level_cls_convs_1_1_bn_bias, ema_detector_bbox_head_multi_level_cls_convs_1_1_bn_running_mean, ema_detector_bbox_head_multi_level_cls_convs_1_1_bn_running_var, ema_detector_bbox_head_multi_level_cls_convs_1_1_bn_num_batches_tracked, ema_detector_bbox_head_multi_level_cls_convs_2_0_conv_weight, ema_detector_bbox_head_multi_level_cls_convs_2_0_bn_weight, ema_detector_bbox_head_multi_level_cls_convs_2_0_bn_bias, ema_detector_bbox_head_multi_level_cls_convs_2_0_bn_running_mean, ema_detector_bbox_head_multi_level_cls_convs_2_0_bn_running_var, ema_detector_bbox_head_multi_level_cls_convs_2_0_bn_num_batches_tracked, ema_detector_bbox_head_multi_level_cls_convs_2_1_conv_weight, ema_detector_bbox_head_multi_level_cls_convs_2_1_bn_weight, ema_detector_bbox_head_multi_level_cls_convs_2_1_bn_bias, ema_detector_bbox_head_multi_level_cls_convs_2_1_bn_running_mean, ema_detector_bbox_head_multi_level_cls_convs_2_1_bn_running_var, ema_detector_bbox_head_multi_level_cls_convs_2_1_bn_num_batches_tracked, ema_detector_bbox_head_multi_level_reg_convs_0_0_conv_weight, ema_detector_bbox_head_multi_level_reg_convs_0_0_bn_weight, ema_detector_bbox_head_multi_level_reg_convs_0_0_bn_bias, ema_detector_bbox_head_multi_level_reg_convs_0_0_bn_running_mean, ema_detector_bbox_head_multi_level_reg_convs_0_0_bn_running_var, ema_detector_bbox_head_multi_level_reg_convs_0_0_bn_num_batches_tracked, ema_detector_bbox_head_multi_level_reg_convs_0_1_conv_weight, ema_detector_bbox_head_multi_level_reg_convs_0_1_bn_weight, ema_detector_bbox_head_multi_level_reg_convs_0_1_bn_bias, ema_detector_bbox_head_multi_level_reg_convs_0_1_bn_running_mean, ema_detector_bbox_head_multi_level_reg_convs_0_1_bn_running_var, ema_detector_bbox_head_multi_level_reg_convs_0_1_bn_num_batches_tracked, ema_detector_bbox_head_multi_level_reg_convs_1_0_conv_weight, ema_detector_bbox_head_multi_level_reg_convs_1_0_bn_weight, ema_detector_bbox_head_multi_level_reg_convs_1_0_bn_bias, ema_detector_bbox_head_multi_level_reg_convs_1_0_bn_running_mean, ema_detector_bbox_head_multi_level_reg_convs_1_0_bn_running_var, ema_detector_bbox_head_multi_level_reg_convs_1_0_bn_num_batches_tracked, ema_detector_bbox_head_multi_level_reg_convs_1_1_conv_weight, ema_detector_bbox_head_multi_level_reg_convs_1_1_bn_weight, ema_detector_bbox_head_multi_level_reg_convs_1_1_bn_bias, ema_detector_bbox_head_multi_level_reg_convs_1_1_bn_running_mean, ema_detector_bbox_head_multi_level_reg_convs_1_1_bn_running_var, ema_detector_bbox_head_multi_level_reg_convs_1_1_bn_num_batches_tracked, ema_detector_bbox_head_multi_level_reg_convs_2_0_conv_weight, ema_detector_bbox_head_multi_level_reg_convs_2_0_bn_weight, ema_detector_bbox_head_multi_level_reg_convs_2_0_bn_bias, ema_detector_bbox_head_multi_level_reg_convs_2_0_bn_running_mean, ema_detector_bbox_head_multi_level_reg_convs_2_0_bn_running_var, ema_detector_bbox_head_multi_level_reg_convs_2_0_bn_num_batches_tracked, ema_detector_bbox_head_multi_level_reg_convs_2_1_conv_weight, ema_detector_bbox_head_multi_level_reg_convs_2_1_bn_weight, ema_detector_bbox_head_multi_level_reg_convs_2_1_bn_bias, ema_detector_bbox_head_multi_level_reg_convs_2_1_bn_running_mean, ema_detector_bbox_head_multi_level_reg_convs_2_1_bn_running_var, ema_detector_bbox_head_multi_level_reg_convs_2_1_bn_num_batches_tracked, ema_detector_bbox_head_multi_level_conv_cls_0_weight, ema_detector_bbox_head_multi_level_conv_cls_0_bias, ema_detector_bbox_head_multi_level_conv_cls_1_weight, ema_detector_bbox_head_multi_level_conv_cls_1_bias, ema_detector_bbox_head_multi_level_conv_cls_2_weight, ema_detector_bbox_head_multi_level_conv_cls_2_bias, ema_detector_bbox_head_multi_level_conv_reg_0_weight, ema_detector_bbox_head_multi_level_conv_reg_0_bias, ema_detector_bbox_head_multi_level_conv_reg_1_weight, ema_detector_bbox_head_multi_level_conv_reg_1_bias, ema_detector_bbox_head_multi_level_conv_reg_2_weight, ema_detector_bbox_head_multi_level_conv_reg_2_bias, ema_detector_bbox_head_multi_level_conv_obj_0_weight, ema_detector_bbox_head_multi_level_conv_obj_0_bias, ema_detector_bbox_head_multi_level_conv_obj_1_weight, ema_detector_bbox_head_multi_level_conv_obj_1_bias, ema_detector_bbox_head_multi_level_conv_obj_2_weight, ema_detector_bbox_head_multi_level_conv_obj_2_bias\n",
      "\n",
      "[                                                  ] 0/99, elapsed: 0s, ETA:/environment/miniconda3/lib/python3.7/site-packages/torch/functional.py:445: UserWarning: torch.meshgrid: in an upcoming release, it will be required to pass the indexing argument. (Triggered internally at  ../aten/src/ATen/native/TensorShape.cpp:2157.)\n",
      "  return _VF.meshgrid(tensors, **kwargs)  # type: ignore[attr-defined]\n",
      "/environment/miniconda3/lib/python3.7/site-packages/mmdet/models/dense_heads/yolox_head.py:286: UserWarning: Creating a tensor from a list of numpy.ndarrays is extremely slow. Please consider converting the list to a single numpy.ndarray with numpy.array() before converting to a tensor. (Triggered internally at  ../torch/csrc/utils/tensor_new.cpp:201.)\n",
      "  scale_factors).unsqueeze(1)\n",
      "[>>>>>>>>>>>>>>>>>>>>>>>>>>>>>>>>] 99/99, 5.2 task/s, elapsed: 19s, ETA:     0smaking the output video at outputs/A_mot_people_short.mp4 with a FPS of 24\n",
      "[>>>>>>>>>>>>>>>>>>>>>>>>>>>>>>>>] 99/99, 26.9 task/s, elapsed: 4s, ETA:     0s\n",
      "\u001b[0m"
     ]
    }
   ],
   "source": [
    "# 行人追踪\n",
    "!python demo/demo_mot_vis.py \\\n",
    "        configs/mot/bytetrack/bytetrack_yolox_x_crowdhuman_mot17-private-half.py \\\n",
    "        --checkpoint https://download.openmmlab.com/mmtracking/mot/bytetrack/bytetrack_yolox_x/bytetrack_yolox_x_crowdhuman_mot17-private-half_20211218_205500-1985c9f0.pth \\\n",
    "        --input data/mot_people_short.mp4 \\\n",
    "        --output outputs/A_mot_people_short.mp4"
   ]
  },
  {
   "cell_type": "code",
   "execution_count": null,
   "id": "d0f5b13e-262c-4dc1-b4e3-88e5b7a0bc4c",
   "metadata": {},
   "outputs": [],
   "source": []
  }
 ],
 "metadata": {
  "kernelspec": {
   "display_name": "Python 3 (ipykernel)",
   "language": "python",
   "name": "python3"
  },
  "language_info": {
   "codemirror_mode": {
    "name": "ipython",
    "version": 3
   },
   "file_extension": ".py",
   "mimetype": "text/x-python",
   "name": "python",
   "nbconvert_exporter": "python",
   "pygments_lexer": "ipython3",
   "version": "3.7.10"
  }
 },
 "nbformat": 4,
 "nbformat_minor": 5
}
